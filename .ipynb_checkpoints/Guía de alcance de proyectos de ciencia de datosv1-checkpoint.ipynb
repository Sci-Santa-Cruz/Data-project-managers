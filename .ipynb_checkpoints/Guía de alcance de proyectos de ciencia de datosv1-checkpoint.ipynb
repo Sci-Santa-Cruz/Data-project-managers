{
 "cells": [
  {
   "cell_type": "markdown",
   "metadata": {},
   "source": [
    " <img src=\"images/logo_anzen_.png\" alt=\"Drawing\" style=\"width:1000px;\"/>"
   ]
  },
  {
   "cell_type": "markdown",
   "metadata": {},
   "source": [
    "# Criterios iniciales\n",
    "\n",
    "Asumiremos aquí que ya hemos repasado los criterios básicos para hacer ciencia de datos:\n",
    "\n",
    "- El problema que estamos resolviendo es real, importante y \n",
    "- Los datos pueden desempeñar un papel en la resolución del problema y la organización tiene acceso a los datos correctos \n",
    "- La organización ha priorizado este problema, está preparada para abordarlo, emprender acciones en función del trabajo y está dispuesta a comprometer recursos para validarlo e implementarlo. "
   ]
  },
  {
   "cell_type": "markdown",
   "metadata": {},
   "source": [
    "# Descripción general del alcance\n",
    "\n",
    "Una vez que hemos pasado por el proceso de selección inicial, comenzamos el proceso de determinación del alcance de un proyecto específico. \n",
    "Hay muchos enfoques para determinar el alcance de un problema. El que describimos a continuación es sólo una guia, pero no es la una respuesta ni una receta para un proyecto exitoso. \n",
    "\n",
    "El proceso de determinación del alcance es bastante iterativo y el alcance se refina tanto durante el proceso de determinación del alcance como durante el proyecto."
   ]
  },
  {
   "cell_type": "markdown",
   "metadata": {},
   "source": [
    "- Paso 1: Metas  - Defina la (s) meta (s) del proyecto\n",
    "- Paso 2: Acciones  - ¿Qué acciones / intervenciones tiene que informará este proyecto?\n",
    "- Paso 3: Datos  : ¿a qué datos tiene acceso internamente? ¿Qué datos necesitas? ¿Qué puede aumentar de fuentes externas y / o públicas?\n",
    "- Paso 4: Análisis  - ¿Qué análisis se necesita hacer? ¿Implica descripción, detección, predicción o cambio de comportamiento? ¿Cómo se validará el análisis?\n",
    "Consideraciones éticas : ¿Cuáles son los problemas de privacidad, transparencia, discriminación / equidad y responsabilidad en torno a este proyecto y cómo los abordará?\n",
    "\n",
    "Luego, el proyecto general implica realizar el análisis (del Paso 4) utilizando los datos (del Paso 3) para informar las acciones (del Paso 2) para lograr los objetivos (del Paso 1).\n",
    "\n"
   ]
  },
  {
   "cell_type": "markdown",
   "metadata": {},
   "source": [
    "\n",
    " <img src=\"images/scopingwheel-1024x1003.png\" alt=\"Drawing\" style=\"width:1000px;\"/>"
   ]
  },
  {
   "cell_type": "code",
   "execution_count": null,
   "metadata": {},
   "outputs": [],
   "source": []
  }
 ],
 "metadata": {
  "kernelspec": {
   "display_name": "Python 3",
   "language": "python",
   "name": "python3"
  },
  "language_info": {
   "codemirror_mode": {
    "name": "ipython",
    "version": 3
   },
   "file_extension": ".py",
   "mimetype": "text/x-python",
   "name": "python",
   "nbconvert_exporter": "python",
   "pygments_lexer": "ipython3",
   "version": "3.7.0"
  }
 },
 "nbformat": 4,
 "nbformat_minor": 4
}
