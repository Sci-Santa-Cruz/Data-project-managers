{
 "cells": [
  {
   "cell_type": "code",
   "execution_count": null,
   "metadata": {},
   "outputs": [],
   "source": []
  },
  {
   "cell_type": "markdown",
   "metadata": {},
   "source": [
    "## MLOps frente a ModelOps frente a AIOps         \n",
    "\n",
    "MLOps (o ModelOps) es una disciplina relativamente nueva, que surgió bajo estos nombres particularmente a fines de 2018 y 2019. En el momento en que se escribe y se publica este libro, los dos, MLOps y ModelOps, se utilizan en gran medida de manera intercambiable. Sin embargo, algunos argumentan que ModelOps es más general que MLOps, ya que no se trata solo de modelos de aprendizaje automático sino de cualquier tipo de modelo (por ejemplo, modelos basados ​​en reglas). Para el propósito de este libro, discutiremos específicamente el ciclo de vida del modelo de aprendizaje automático y, por lo tanto, usaremos MLOps.        AIOps, aunque a veces se confunde con MLOps, es otro tema completamente diferente y se refiere al proceso de resolución de desafíos operativos mediante el uso de inteligencia artificial (es decir, AI para DevOps). Un ejemplo sería una forma de mantenimiento predictivo pero para fallas de red, alertando a los equipos de DevOps sobre posibles problemas antes de que surjan. Si bien es importante e interesante por derecho propio, AIOps está fuera del alcance de este libro."
   ]
  },
  {
   "cell_type": "markdown",
   "metadata": {},
   "source": [
    "## ¿Qué pasa con DataOps?           \n",
    "\n",
    "Para aumentar la complejidad de MLOps frente a DevOps, también existe DataOps, un término introducido en 2014 por IBM. DataOps busca proporcionar datos listos para el negocio que estén rápidamente disponibles para su uso, con un gran enfoque en la calidad de los datos y la gestión de metadatos. Por ejemplo, si hay un cambio repentino en los datos en los que se basa un modelo, un sistema DataOps alertaría al equipo de negocios para que maneje con más cuidado los conocimientos más recientes, y se notificará al equipo de datos que investigue el cambio o revertiría una actualización de la biblioteca y reconstruir la partición relacionada.          El aumento de MLOps, por lo tanto, se cruza con DataOps en algún nivel, aunque MLOps va un paso más allá y aporta aún más robustez a través de características clave adicionales (discutidas con más detalle en el capítulo 3, MLOps: Características clave)."
   ]
  },
  {
   "cell_type": "markdown",
   "metadata": {},
   "source": [
    "Continuous Delivery for Machine Learning (CD4ML) es un enfoque de ingeniería de software en el que un equipo multifuncional produce aplicaciones de aprendizaje automático basadas en código, datos y modelos en incrementos pequeños y seguros que se pueden reproducir y publicar de manera confiable en cualquier momento, en resumen ciclos de adaptación."
   ]
  },
  {
   "cell_type": "markdown",
   "metadata": {},
   "source": []
  },
  {
   "cell_type": "code",
   "execution_count": null,
   "metadata": {},
   "outputs": [],
   "source": []
  }
 ],
 "metadata": {
  "kernelspec": {
   "display_name": "Python 3",
   "language": "python",
   "name": "python3"
  },
  "language_info": {
   "codemirror_mode": {
    "name": "ipython",
    "version": 3
   },
   "file_extension": ".py",
   "mimetype": "text/x-python",
   "name": "python",
   "nbconvert_exporter": "python",
   "pygments_lexer": "ipython3",
   "version": "3.8.5"
  }
 },
 "nbformat": 4,
 "nbformat_minor": 4
}
