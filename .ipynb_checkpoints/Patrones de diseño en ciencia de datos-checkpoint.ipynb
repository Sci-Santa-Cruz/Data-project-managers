{
 "cells": [
  {
   "cell_type": "markdown",
   "metadata": {},
   "source": [
    " <img src=\"images/logo_anzen_.png\" alt=\"Drawing\" style=\"width:1000px;\"/>"
   ]
  },
  {
   "cell_type": "markdown",
   "metadata": {},
   "source": [
    "## Patrón de diseño 1: función hash \n",
    "\n",
    "El patrón de diseño Hashed Feature aborda tres posibles problemas asociados con las características categóricas: vocabulario incompleto, tamaño del modelo debido a cardinalidad y arranque en frío. Lo hace agrupando las características categóricas y aceptando la compensación de las colisiones en la representación de datos."
   ]
  },
  {
   "cell_type": "markdown",
   "metadata": {},
   "source": [
    "### TIPS\n",
    "\n",
    "Incluso con representaciones simples como la codificación one-hot, vale la pena anticipar el problema del arranque en frío y reservar explícitamente todos los ceros para entradas fuera de vocabulario."
   ]
  },
  {
   "cell_type": "markdown",
   "metadata": {},
   "source": [
    "### ALTA CARDINALIDAD\n",
    "\n",
    "Es fácil ver que el problema de la cardinalidad alta se aborda siempre que elijamos una cantidad suficientemente pequeña de cubos de hash. Incluso si tenemos millones de aeropuertos, hospitales o médicos, podemos dividirlos en unos pocos cientos de cubos, lo que mantiene la memoria del sistema y los requisitos de tamaño del modelo prácticos.\n",
    "\n",
    "No necesitamos almacenar el vocabulario porque el código de transformación es independiente del valor real de los datos y el núcleo del modelo solo se ocupa de las num_bucketsentradas, no del vocabulario completo.\n",
    "\n",
    "Es cierto que el hash tiene pérdidas: dado que tenemos 347 aeropuertos, un promedio de 35 aeropuertos obtendrán el mismo código de cubo hash si lo dividimos en 10 cubos. Sin embargo, cuando la alternativa es descartar la variable porque es demasiado ancha, una codificación con pérdida es un compromiso aceptable."
   ]
  },
  {
   "cell_type": "markdown",
   "metadata": {},
   "source": [
    "INICIO EN FRIO \n",
    "\n",
    "La situación de inicio en frío es similar a la situación de falta de vocabulario. Al elegir la cantidad de cubos de hash de manera que cada cubeta obtenga aproximadamente cinco entradas, podemos asegurarnos de que cualquier cubeta tenga resultados iniciales razonables.Compensaciones y alternativas\n",
    "\n",
    "La mayoría de los patrones de diseño implican algún tipo de _trade off_, y el patrón de diseño _Hashed Feature_ no es una excepción. La compensación clave aquí es que perdemos la precisión del modelo.\n",
    "\n",
    "El _trade off_ es la relación existente ente costo-beneficio de dos acciones."
   ]
  },
  {
   "cell_type": "markdown",
   "metadata": {},
   "source": [
    "COLISIÓN\n",
    "\n",
    "La parte de módulo de la implementación de la función Hashed es una operación con pérdidas. \n",
    "\n",
    "\n",
    "La parte de módulo de la implementación de la función Hashed es una operación con pérdidas. Al elegir un tamaño de cubo de hash de 100, elegimos que de 3 a 4 aeropuertos compartan un cubo. Estamos comprometiendo explícitamente la capacidad de representar con precisión los datos (con un vocabulario fijo y codificación one-hot) para manejar entradas de vocabulario fuera de vocabulario, restricciones de cardinalidad / tamaño del modelo y problemas de inicio en frío. No es un almuerzo gratis. No elija Función hash si conoce el vocabulario de antemano, si el tamaño del vocabulario es relativamente pequeño (en miles es aceptable para un conjunto de datos con millones de ejemplos) y si el inicio en frío no es una preocupación. Tenga en cuenta que no podemos simplemente aumentar el número de cubos a un número extremadamente alto con la esperanza de evitar colisiones por completo. Incluso si aumentamos la cantidad de cubos a 100.000 con solo 347 aeropuertos, la probabilidad de que al menos dos aeropuertos compartan el mismo cubo de hash es del 45%, inaceptablemente alta (consulte la Tabla 2-2 ). Por lo tanto, deberíamos usar funciones hash solo si estamos dispuestos a tolerar múltiples entradas categóricas que compartan el mismo valor de cubo hash"
   ]
  },
  {
   "cell_type": "markdown",
   "metadata": {},
   "source": [
    "Sesgar\n",
    "\n",
    "La pérdida de precisión es particularmente aguda cuando la distribución de la entrada categórica está muy sesgada. "
   ]
  },
  {
   "cell_type": "markdown",
   "metadata": {},
   "source": [
    "CARACTERÍSTICA AGREGADA\n",
    "En los casos en los que la distribución de una variable categórica está sesgada o en los que el número de depósitos es tan pequeño que las colisiones de depósitos son frecuentes, podría resultar útil agregar una característica agregada como entrada a nuestro modelo. Por ejemplo, para cada aeropuerto, podríamos encontrar la probabilidad de vuelos puntuales en el conjunto de datos de entrenamiento y agregarlo como una característica a nuestro modelo. Esto nos permite evitar perder la información asociada con aeropuertos individuales cuando codificamos los códigos de los aeropuertos. En algunos casos, es posible que podamos evitar el uso del nombre del aeropuerto como una característica por completo, ya que la frecuencia relativa de los vuelos puntuales podría ser suficiente.\n",
    "\n",
    "AJUSTE DE HIPERPARÁMETROS\n",
    "Debido a las compensaciones con la frecuencia de colisión del cucharón, elegir la cantidad de cucharones puede resultar difícil. Muy a menudo depende del problema en sí. Por lo tanto, recomendamos que trate la cantidad de depósitos como un hiperparámetro que está ajustado:"
   ]
  },
  {
   "cell_type": "markdown",
   "metadata": {},
   "source": [
    "Hash criptográfico\n",
    "\n",
    "Lo que hace que la función Hashed tenga pérdidas es la parte de módulo de la implementación. ¿Y si evitáramos el módulo por completo? Después de todo, la huella digital de la granja tiene una longitud fija (un INT64 es de 64 bits), por lo que se puede representar utilizando 64 valores de características, cada uno de los cuales es 0 o 1. Esto se denomina codificación binaria .\n",
    "\n",
    "Sin embargo, la codificación binaria no resuelve el problema de las entradas sin vocabulario o el inicio en frío (solo el problema de la cardinalidad alta). De hecho, la codificación bit a bit es una pista falsa. Si no hacemos un módulo, podemos obtener una representación única simplemente codificando los tres caracteres que forman el código IATA (usando así una característica de longitud 3 * 26 = 78). El problema con esta representación es inmediatamente obvio: los aeropuertos cuyos nombres comienzan con la letra O no tienen nada en común cuando se trata de sus características de retraso de vuelo; la codificación ha creado una correlación espuria entre los aeropuertos que comienzan con la misma letra. \n",
    "\n",
    "La misma idea también se aplica al espacio binario. Debido a esto, no recomendamos la codificación binaria de los valores de huellas dactilares de la granja.La codificación binaria de un hash MD5 no sufrirá este problema de correlación espuria porque la salida de un hash MD5 se distribuye uniformemente, por lo que los bits resultantes se distribuirán uniformemente. Sin embargo, a diferencia del algoritmo Farm Fingerprint, el hash MD5 no es determinista ni único; es un hash unidireccional y tendrá muchas colisiones inesperadas.En el patrón de diseño de la función Hashed, tenemos que usar un algoritmo de hash de huellas digitales y no un algoritmo de hash criptográfico. Esto se debe a que el objetivo de una función de huella digital es producir un valor determinista y único. \n",
    "\n",
    "Si lo piensa bien, este es un requisito clave de las funciones de preprocesamiento en el aprendizaje automático, ya que necesitamos aplicar la misma función durante la entrega del modelo y obtener el mismo valor hash. Una función de huella dactilar no produce una salida distribuida uniformemente. Los algoritmos criptográficos como MD5 o SHA1 producen una salida distribuida uniformemente, pero no son deterministas y están hechos a propósito para que sean computacionalmente costosos. Por lo tanto, La conclusión es que necesitamos usar un algoritmo de hash de huellas dactilares, y necesitamos modular el hash resultante."
   ]
  },
  {
   "cell_type": "markdown",
   "metadata": {},
   "source": [
    "Nota\n",
    "\n",
    "La razón por la que MD5 no es determinista es que normalmente se agrega una \"sal\" a la cadena que se va a aplicar hash. La sal es una cadena aleatoria agregada a cada contraseñapara asegurarse de que incluso si dos usuarios usan la misma contraseña, el valor hash en la base de datos será diferente. Esto es necesario para frustrar los ataques basados ​​en \"tablas de arco iris\", que son ataques que se basan en diccionarios de contraseñas elegidas comúnmente y que comparan el hash de la contraseña conocida con los hash de la base de datos. A medida que ha aumentado la potencia computacional, también es posible llevar a cabo un ataque de fuerza bruta en cada sal posible, por lo que las implementaciones criptográficas modernas hacen su hash en un bucle para aumentar el gasto computacional. Incluso si desactiváramos la sal y redujéramos el número de iteraciones a una, el hash MD5 es solo de una forma. No será único."
   ]
  },
  {
   "cell_type": "markdown",
   "metadata": {},
   "source": [
    "Cubos de hash vacíos\n",
    "\n",
    "\n",
    "Aunque es poco probable, existe una posibilidad remota de que incluso si elegimos 10 cubos de hash para representar 347 aeropuertos, uno de los cubos de hash esté vacío. Por lo tanto, cuando se utilizan columnas de características con hash, puede resultar beneficioso utilizar también la regularización L2 para que los pesos asociados con un depósito vacío se acerquen a cero. De esta forma, si un aeropuerto sin vocabulario cae en un cubo vacío, no hará que el modelo se vuelva inestable numéricamente."
   ]
  },
  {
   "cell_type": "code",
   "execution_count": null,
   "metadata": {},
   "outputs": [],
   "source": []
  }
 ],
 "metadata": {
  "kernelspec": {
   "display_name": "Python 3",
   "language": "python",
   "name": "python3"
  },
  "language_info": {
   "codemirror_mode": {
    "name": "ipython",
    "version": 3
   },
   "file_extension": ".py",
   "mimetype": "text/x-python",
   "name": "python",
   "nbconvert_exporter": "python",
   "pygments_lexer": "ipython3",
   "version": "3.7.0"
  }
 },
 "nbformat": 4,
 "nbformat_minor": 4
}
