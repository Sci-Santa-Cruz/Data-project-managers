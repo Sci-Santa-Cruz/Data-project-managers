{
 "cells": [
  {
   "cell_type": "markdown",
   "metadata": {},
   "source": [
    " <img src=\"\" alt=\"Drawing\" style=\"width:1000px;\"/>"
   ]
  },
  {
   "cell_type": "markdown",
   "metadata": {},
   "source": [
    "# Criterios iniciales\n",
    "\n",
    "Asumiremos aquí que ya hemos repasado los criterios básicos para hacer ciencia de datos:\n",
    "\n",
    "- El problema que estamos resolviendo es real, importante y es medible su exito\n",
    "- Los datos pueden desempeñar un papel en la resolución del problema y la organización tiene acceso a los datos correctos (consulte nuestro marco de madurez de datos para ayudarlo a evaluar si tiene los datos correctos).\n",
    "- La organización ha priorizado este problema, está preparada para abordarlo, emprender acciones en función del trabajo y está dispuesta a comprometer recursos para validarlo e implementarlo. (consulte nuestro marco de madurez organizacional para evaluar dónde se encuentra)."
   ]
  },
  {
   "cell_type": "markdown",
   "metadata": {},
   "source": [
    "# Descripción general del alcance\n",
    "\n",
    "Una vez que hemos pasado por el proceso de selección inicial, comenzamos el proceso de determinación del alcance de un proyecto específico. \n",
    "Hay muchos enfoques para determinar el alcance de un problema. El que describimos a continuación es sólo una guia, pero no es la una respuesta ni una receta para un proyecto exitoso. \n",
    "\n",
    "El proceso de determinación del alcance es bastante iterativo y el alcance se refina tanto durante el proceso de determinación del alcance como durante el proyecto."
   ]
  },
  {
   "cell_type": "markdown",
   "metadata": {},
   "source": [
    "- Paso 1: Metas  - Defina las metas del proyecto\n",
    "- Paso 2: Acciones  - ¿Qué acciones / intervenciones tiene que informará este proyecto?\n",
    "- Paso 3: Datos  : ¿a qué datos tiene acceso internamente? ¿Qué datos necesitas? ¿Qué puede aumentar de fuentes externas y / o públicas?\n",
    "- Paso 4: Análisis  - ¿Qué análisis se necesita hacer? ¿Implica descripción, detección, predicción o cambio de comportamiento? ¿Cómo se validará el análisis?\n",
    "\n",
    "Consideraciones éticas : ¿Cuáles son los problemas de privacidad, transparencia, discriminación / equidad y responsabilidad en torno a este proyecto y cómo los abordará?\n",
    "\n",
    "Luego, el proyecto general implica realizar el análisis (del Paso 4) utilizando los datos (del Paso 3) para informar las acciones (del Paso 2) para lograr los objetivos (del Paso 1).\n",
    "\n"
   ]
  },
  {
   "cell_type": "markdown",
   "metadata": {},
   "source": [
    "\n",
    " <img src=\"images/scopingwheel-1024x1003.png\" alt=\"Drawing\" style=\"width:500px;\"/>"
   ]
  },
  {
   "cell_type": "code",
   "execution_count": 1,
   "metadata": {},
   "outputs": [],
   "source": [
    "# Descripción y caso de uso "
   ]
  },
  {
   "cell_type": "markdown",
   "metadata": {},
   "source": [
    "## Paso 1: Defina las metas\n",
    "\n",
    "Este es el paso más crítico en el proceso de determinación del alcance. La mayoría de los proyectos comienzan con un objetivo muy vago y abstracto (por ejemplo, _mejorar la educación o la atención médica_), se vuelven un poco más concretos (aumentar el porcentaje de estudiantes que se graduarán a tiempo o disminuir el número de niños que se intoxican con plomo) y se mantienen perfeccionándose hasta que el objetivo sea concreto y logre los objetivos de la organización. Este paso es difícil porque la mayoría de las organizaciones no han definido explícitamente objetivos analíticos para muchos de los problemas que están abordando. A veces, estos objetivos existen pero están bloqueados implícitamente en la mente de las personas dentro de la organización. Otras veces, hay varios objetivos que diferentes partes de la organización están tratando de optimizar.\n",
    "\n",
    "Tomemos un ejemplo con el que todos estamos muy familiarizados estos días: las elecciones presidenciales. ¿Cuál es el objetivo de cada campaña presidencial? Obviamente, la respuesta es ganar las elecciones, pero ¿cuál es el objetivo único medible que las campañas están tratando de optimizar? Algunos pueden decir que obtener más votos o ganar más estados indecisos o ganar más votos electorales. Todos esos son objetivos que apuntan en la dirección correcta, pero en el centro mismo de la campaña, el objetivo de una campaña presidencial es maximizar la probabilidad de ganar al menos 270 votos electorales. Este es un punto crítico porque obtener> 50% de los votos no significa que ganes las elecciones. Ganar más del 50% de los estados no significa que ganes las elecciones. Y obtener 270 votos electorales tiene el mismo resultado que ganar 500 votos electorales. Por lo tanto, desea asegurarse de no solo buscar más votos o más votos electorales, sino de maximizar su probabilidad de obtener al menos 270 votos electorales. Al centrarse en este objetivo, permite que las campañas (racionales y basadas en datos) asignen sus recursos para aumentar esta probabilidad.\n",
    "\n"
   ]
  },
  {
   "cell_type": "markdown",
   "metadata": {},
   "source": [
    "### Ejemplos\n",
    "\n",
    "Ahora, tomemos algunos problemas en las políticas públicas y el bien social y veamos cómo podemos determinar los objetivos.\n",
    "\n",
    "__Ejemplo 1__ - Envenenamiento por plomo: Hace unos años, comenzamos a trabajar con el Departamento de Salud Pública de Chicago para prevenir el envenenamiento por plomo. El objetivo inicial era aumentar la eficacia de sus inspecciones de peligros por plomo. Una forma de lograr ese objetivo sería concentrarse en los hogares que tienen peligros de plomo. Aunque útil, este enfoque no lograría su objetivo real, que era evitar que los niños se intoxicaran con plomo. Encontrar un hogar con peligros de plomo y repararlo solo es beneficioso si existe una alta probabilidad de que un niño presente (actualmente o en el futuro) esté expuesto al plomo. La siguiente iteración del objetivo fue maximizar la cantidad de inspecciones que detectan peligros de plomo en hogares donde hay un niño en riesgo (antes de que el niño se exponga al plomo). Finalmente, llegamos al objetivo final:\n",
    "\n",
    "__Ejemplo 2__ - Graduación de la escuela secundaria: Uno de los mayores desafíos que enfrentan las escuelas en la actualidad es ayudar a sus estudiantes a graduarse (a tiempo). Las tasas de graduación en los EE. UU. Son ~ 65%. Todos están interesados ​​en identificar a los estudiantes que corren el riesgo de no graduarse a tiempo. Al hablar inicialmente con la mayoría de los distritos escolares, comienzan con un objetivo muy limitado de predecir qué niños es poco probable que se gradúen a tiempo. El primer paso es volver al objetivo de aumentar las tasas de graduación y preguntar si hay un subconjunto específico de estudiantes en riesgo que quieran identificar. ¿Qué pasaría si pudiéramos identificar a los estudiantes con solo un 5% de probabilidades de estar en riesgo frente a los estudiantes con un 95% de probabilidades de no graduarse a tiempo sin apoyo adicional? Si el objetivo es solo aumentar las tasas de graduación, el primer grupo es (probablemente) más fácil de intervenir e influir, mientras que el segundo grupo puede ser más desafiante debido a los recursos que necesita. ¿El objetivo es maximizar la probabilidad promedio / media / mediana de graduarse para una clase / escuela o es el objetivo centrarse en los niños con mayor riesgo y maximizar la probabilidad de graduación del 10% inferior de los estudiantes? ¿O el objetivo es crear más equidad y disminuir la diferencia en la probabilidad de graduación a tiempo entre el cuartil superior y el cuartil inferior? Todos estos son objetivos razonables, pero las escuelas deben comprender, evaluar y decidir qué objetivos les interesan. Esta conversación a menudo los hace pensar más en definir analíticamente cuáles son sus objetivos organizacionales, así como las compensaciones. ¿El objetivo es maximizar la probabilidad promedio / media / mediana de graduarse para una clase / escuela o es el objetivo centrarse en los niños con mayor riesgo y maximizar la probabilidad de graduación del 10% inferior de los estudiantes? ¿O el objetivo es crear más equidad y disminuir la diferencia en la probabilidad de graduación a tiempo entre el cuartil superior y el cuartil inferior? Todos estos son objetivos razonables, pero las escuelas deben comprender, evaluar y decidir qué objetivos les interesan. Esta conversación a menudo los hace pensar más en definir analíticamente cuáles son sus objetivos organizacionales, así como las compensaciones. ¿El objetivo es maximizar la probabilidad promedio / media / mediana de graduarse para una clase / escuela o es el objetivo centrarse en los niños con mayor riesgo y maximizar la probabilidad de graduación del 10% inferior de los estudiantes? ¿O el objetivo es crear más equidad y disminuir la diferencia en la probabilidad de graduación a tiempo entre el cuartil superior y el cuartil inferior? Todos estos son objetivos razonables, pero las escuelas deben comprender, evaluar y decidir qué objetivos les interesan. Esta conversación a menudo los hace pensar más en definir analíticamente cuáles son sus objetivos organizacionales, así como las compensaciones.\n",
    "\n",
    "__Ejemplo 3__ - Inspecciones: Hemos trabajado en varios proyectos que involucraron inspecciones, como con la EPA y el Departamento de Conservación Ambiental del Estado de Nueva York para ayudarlos a priorizar qué instalaciones inspeccionar para buscar violaciones de eliminación de desechos, con la Ciudad de Cincinnati para ayudarlos a identificar las propiedades en riesgo. de violaciones del código para prevenir el deterioro, y con el Grupo del Banco Mundial para ayudarlos a priorizar qué denuncias de fraude y colusión investigar. En la mayoría de los problemas de inspección / investigación, hay muchas más entidades (viviendas, edificios, instalaciones, negocios, contratos) para inspeccionar que los recursos disponibles necesarios para realizar esas inspecciones. El objetivo con el que comienzan la mayoría de estas organizaciones es dirigir sus inspecciones a las entidades que tienen más probabilidades de violar las regulaciones existentes. Ese es un buen comienzo, pero la mayoría de estas organizaciones nunca pueden inspeccionar todas las instalaciones / hogares que pueden no cumplir con las normas, por lo que el objetivo que realmente persiguen es la disuasión: reducir la cantidad total de instalaciones que estarán en violación. Un proceso de inspección ideal resultaría entonces en la reducción del número real de violaciones (encontradas o no), lo que puede no ser lo mismo que un proceso de inspección que tiene como objetivo ser eficiente y aumentar la tasa de aciertos (% de inspección que resulta en violaciones).\n",
    "\n",
    "__Ejemplo 4__ - Programación de la recolección de residuos : Recientemente comenzamos a trabajar con Sanergy, una empresa social con sede en Kenia. Implementan baños portátiles en asentamientos urbanos informales y uno de sus mayores costos es contratar personas para vaciar los baños. Hoy en día, todos los inodoros se vacían todos los días a pesar de que hay variaciones en cuánto se usan y cuánto se llenan. Para que puedan crecer y mantener bajos los costos, necesitan un enfoque más adaptable que pueda optimizar el cronograma para vaciar los inodoros. El objetivo en este caso es asegurarse de no vaciar demasiado el inodoro cuando no está lleno, pero tampoco dejar que permanezca lleno porque entonces no se puede usar. Esto se traduce en una formulación que presiona para vaciar el inodoro lo más cerca posible de estar lleno al 100% sin llegar al 100%.\n",
    "\n",
    "Considerar las compensaciones al decidir los objetivos\n",
    "A medida que comenzamos a determinar y a menudo priorizar objetivos, la conversación conduce a compensaciones. Cuando se trata de estudiantes que pueden necesitar apoyo adicional para graduarse a tiempo, ¿qué es lo que más le importa? Encontrar a todos los estudiantes que puedan necesitar esa ayuda (a expensas de apuntar a los estudiantes que pueden no necesitar el apoyo y posiblemente ser ineficientes) o priorizar la eficiencia y enfocarse solo en los estudiantes donde está extremadamente seguro de que necesitarán el apoyo adicional (y por lo que faltan muchos estudiantes). ¿Preferiría inspeccionar más casas sin encontrar peligros de plomo en ellas (ineficaz) o preferiría perder las casas con niños que terminarán envenenándose por plomo? Al enviar y colocar vehículos de respuesta a emergencias, ¿Quiere asegurarse de que puede llegar a todas las emergencias posibles en 10 minutos o quiere asegurarse de que puede llegar a las emergencias críticas en 3 minutos y las no críticas en 20 minutos? ¿Qué errores estás dispuesto a cometer? Esa es una pregunta crítica que plantea un buen proceso de determinación del alcance y responde en función de las prioridades de la organización.\n",
    "\n",
    "En términos de ciencia de datos, ¿preferiría tener más falsos positivos o más falsos negativos? Por supuesto, esta decisión depende del impacto y el costo de esos errores, que a menudo es difícil (y a veces incómodo) de cuantificar. Puede que no haya una respuesta objetivamente correcta, pero los responsables de la formulación de políticas deben decidir qué objetivos de políticas quieren optimizar, qué recursos tienen y qué resultados quieren priorizar. El trabajo de ciencia de datos se utiliza luego para respaldar e implementar esos objetivos de política. La ciencia de datos puede ayudar a explorar el impacto de esos objetivos y comprender mejor las implicaciones, pero en última instancia, es una decisión política decidir qué objetivos optimizar."
   ]
  },
  {
   "cell_type": "markdown",
   "metadata": {},
   "source": [
    "## Paso 2: ¿Qué acciones / intervenciones está informando?\n",
    "\n",
    "\n",
    "El trabajo que hacemos normalmente solo puede tener impacto si es procesable. ¿Qué acciones puede tomar la organización para lograr estos objetivos? Estas acciones a menudo deben ser bastante concretas: inspecciones de viviendas, inscribir a un estudiante en uno de los tres programas extracurriculares, correos electrónicos específicos para recaudación de fondos o promoción, enviar un vehículo de emergencia o programar una recolección de residuos. Un proyecto con un buen alcance idealmente tiene un conjunto de acciones que las organizaciones están tomando y que ahora pueden estar mejor informadas utilizando la ciencia de datos. Si la acción / intervención que está tomando un departamento de salud pública son las inspecciones de peligro de plomo, el trabajo de ciencia de datos puede ayudar a informar qué hogares inspeccionar. No tiene que limitar esto a mejorar las acciones existentes. A menudo, también terminamos creando un nuevo conjunto de acciones. Generalmente, Es una buena estrategia enfocarse primero en informar las acciones existentes en lugar de comenzar con acciones completamente nuevas que la organización no está familiarizada con la implementación. Enumerar el conjunto de acciones permite que el proyecto sea procesable. Si el análisis que se realizará más adelante no informa una acción, entonces generalmente (pero no siempre) no ayuda a la organización a lograr sus objetivos y no debería ser una prioridad.\n",
    "\n",
    "Volvamos a nuestro ejemplo de elecciones. ¿Qué acciones tiene una campaña para conseguir votos? Normalmente, una campaña tiene tres acciones de alto nivel:\n",
    "\n",
    "Registrar nuevos votantes\n",
    "Persuadir a los votantes existentes para que apoyen a su candidato.\n",
    "Saca el voto\n",
    "Las tres acciones necesitan una entrada clave: ¿A quién deben dirigirse estas acciones?\n",
    "\n",
    "¿A quién debemos registrar para votar?\n",
    "¿A quién debemos persuadir?\n",
    "¿A quién deberíamos intentar que vote?\n",
    "Desglose de acciones\n",
    "Las acciones tienen una granularidad, frecuencia, horizonte de tiempo, canal, etc. pero dejaremos esa discusión para un informe futuro. Por ejemplo, nos gustaría determinar qué canal (s) (llamada a la puerta, llamada telefónica, correo electrónico, Twitter, Facebook, Snapchat, anuncios de televisión) utilizar para dirigirse a un individuo. ¿Con qué frecuencia se deben apuntar? ¿Quién debería apuntar a ellos? También querrá proponer a menudo nuevas acciones e intervenciones. También volveremos a eso en un artículo futuro.\n",
    "\n",
    "Veamos algunos ejemplos adicionales de acciones:\n",
    "\n",
    "A menudo, una organización tiene una acción de alto nivel (inspección de plomo o inspección de la casa o programas extracurriculares). En el proceso de determinación del alcance, podemos proceder de dos formas:\n",
    "\n",
    "Podemos simplemente mantener el alcance para informar esa acción:\n",
    "a. ¿Qué casas inspeccionar por peligros?\n",
    "segundo. ¿Qué estudiantes deben inscribirse en el programa extracurricular?\n",
    "También podemos dividir la acción de alto nivel en componentes más pequeños: puede haber múltiples programas extracurriculares y cada uno de ellos puede considerarse una acción. Por ejemplo, puede haber 3 tipos de programas:\n",
    "a. Un programa en línea que se puede brindar al 90% de los estudiantes\n",
    "b. Un programa corto que se puede proporcionar al 50% de los estudiantes\n",
    "c. Un programa intenso que solo se puede brindar al 10% de los estudiantes."
   ]
  },
  {
   "cell_type": "markdown",
   "metadata": {},
   "source": [
    "## Paso 3: ¿Qué datos tiene y qué datos necesita?\n",
    "\n",
    "Notará que hasta ahora en el proceso de determinación del alcance no hemos hablado de datos en absoluto. Esto es intencional, ya que queremos que estos proyectos se centren en los problemas y no en los datos. Sí, los datos son importantes y a todos nos encantan los datos, pero comenzar con los datos a menudo conduce a análisis que pueden no ser procesables o relevantes para los objetivos que queremos lograr. Una vez que hemos determinado los objetivos y las acciones, el siguiente paso es averiguar qué fuentes de datos existen dentro (y fuera) de la organización que serán relevantes para este problema y qué fuentes de datos necesitamos para resolver este problema de manera efectiva. Para cada fuente de datos, es una buena práctica averiguar cómo se almacena, con qué frecuencia se recopilan, cuál es su nivel de granularidad, qué tan atrás se remonta, si existe un sesgo de recopilación, con qué frecuencia ingresan nuevos datos y si sobrescribe campos antiguos o agrega filas nuevas?\n",
    "\n",
    "Primero desea hacer una lista de las fuentes de datos que están disponibles dentro de la organización. Este también es un proceso iterativo, ya que la mayoría de las organizaciones no tienen necesariamente una lista completa de las fuentes de datos que tienen. A veces, (si tiene suerte) los datos pueden estar en un almacén de datos central e integrado, pero incluso entonces puede encontrar personas y / o departamentos que tengan datos adicionales o versiones diferentes del almacén de datos.\n",
    "\n",
    "Hacer coincidir los datos con las acciones\n",
    "Este paso también le ayuda a determinar si sus datos coinciden con las acciones que necesita informar. Si las acciones son a nivel individual, lo más probable es que necesite datos a nivel individual. Si las acciones deben decidirse una vez al día, entonces necesita que sus datos se actualicen todos los días. Es importante hacer coincidir la granularidad, la frecuencia y el horizonte temporal de las acciones con la granularidad, la frecuencia y el horizonte temporal de los datos que tiene.\n",
    "\n",
    "Datos externos y / o públicos\n",
    "Una vez que haya determinado qué datos necesita y qué datos existen dentro de la organización, entonces querrá averiguar qué datos externos y / o públicos puede obtener para llenar los vacíos. A menudo, cada dominio tiene fuentes de datos de uso común que usted desea conocer. American Community Survey es un buen ejemplo de una fuente de datos que desea utilizar en la mayoría de los proyectos que realiza y que involucran algún componente espacial en los EE. UU. Los portales de datos abiertos (a nivel federal, estatal y local) también tienen datos que se pueden usar para aumentar sus datos internos. Los datos de llamadas al 311, los datos de llamadas al 911 y los datos de incendios son ejemplos de algunas fuentes de datos locales que se encuentran comúnmente. También desea echar un vistazo a las fuentes de datos comerciales que puede comprar para aumentar sus datos internos."
   ]
  },
  {
   "cell_type": "markdown",
   "metadata": {},
   "source": [
    "## Paso 4: ¿Qué análisis se debe realizar?\n",
    "\n",
    "El paso final en el proceso de determinación del alcance es ahora determinar el análisis que se debe realizar para informar las acciones utilizando los datos que tenemos para lograr nuestros objetivos.\n",
    "\n",
    "El análisis puede utilizar métodos y herramientas de diferentes áreas: informática, aprendizaje automático, ciencia de datos, estadística y ciencias sociales. Una forma de pensar en el análisis que se puede hacer es dividirlo en 4 tipos:\n",
    "\n",
    "Descripción: enfocado principalmente en comprender eventos y comportamientos que han sucedido en el pasado. Los métodos que se utilizan para realizar descripciones a veces se denominan métodos de aprendizaje no supervisados ​​e incluyen métodos de agrupación.\n",
    "Detección: menos centrado en el pasado y más centrado en eventos en curso. Las tareas de detección a menudo implican detectar eventos y anomalías que están ocurriendo actualmente.\n",
    "Predicción: se centra en el futuro y predice comportamientos y eventos futuros.\n",
    "Mejoramiento\n",
    "Cambio de comportamiento: Enfocado en provocar cambios en el comportamiento de personas, organizaciones, barrios. Normalmente utiliza métodos de inferencia causal y economía del comportamiento.\n",
    "Por supuesto, hay muchos más tipos de análisis, pero nos centraremos en estos cinco en este artículo.\n",
    "\n",
    "Las preguntas a responder en este paso son:\n",
    "\n",
    " ¿Qué análisis se necesita hacer? ¿Es este un análisis descriptivo, un modelo predictivo o una tarea de detección o cambio de comportamiento? A menudo, el análisis involucra varios de los tipos de análisis que describimos anteriormente.\n",
    "¿Cómo se validará el análisis? ¿Qué validación se puede realizar utilizando datos históricos existentes? ¿Qué prueba de campo debe diseñarse para validar esto en el campo antes de que pueda implementarse?\n",
    "¿Cómo informará el análisis las acciones?\n",
    "Continuemos con nuestro ejemplo de elecciones presidenciales:\n",
    "\n",
    "Objetivo : maximizar la probabilidad de ganar al menos 270 votos electorales\n",
    "Acciones :  1 . Registrar votantes,  2 . Persuadir a los votantes,  3 . Haga que las personas que apoyan a su candidato voten\n",
    "\n",
    "El análisis que debemos hacer debe informar las 3 acciones.\n",
    "\n",
    "Para la acción 1 (Registrar votantes), debemos responder una pregunta clave: ¿A quién debemos registrar?\n",
    "Para la acción 2 (Persuadir a los votantes), la pregunta es muy similar: ¿A quién debemos persuadir para que apoye a nuestro candidato?\n",
    "Para la acción 3 (Get out the Vote), es nuevamente la misma pregunta: ¿A quién debemos dirigirnos Get out the Vote?\n",
    "Como se mencionó anteriormente, existen variaciones más complicadas de la pregunta a las que podemos llegar. Por ejemplo, no solo se centra en quién debe ser persuadido, sino también en quién debe persuadirlo. ¿Qué canal (s) deberíamos usar para persuadirlos (en persona? ¿Por teléfono? ¿En línea? ¿Televisión?) ¿Cuándo deberían ser persuadidos? ¿Al comienzo de la campaña? ¿Más cerca de las elecciones? ¿Con qué frecuencia deben ser persuadidos?\n",
    "\n",
    "Elijamos una de esas acciones para hacer el análisis: ¿A quién debemos apuntar para los esfuerzos de “sacar el voto”? De manera intuitiva, queremos apuntar a personas que ya apoyan a nuestro candidato pero que probablemente no votarán. Eso requiere que sepamos dos cosas sobre los votantes: ¿Qué probabilidades hay de que apoyen a nuestro candidato? ¿Y qué probabilidades hay de que voten? Formalmente, queremos tomar a todos los votantes del país y predecir su:\n",
    "\n",
    "P (Apoyo): Probabilidad de que apoyen a nuestro candidato\n",
    "P (Participación): Probabilidad de que voten\n",
    "Una vez que hayamos determinado estas dos predicciones, podemos usarlas para determinar los votantes que son probables partidarios pero no es probable que voten y enfocar nuestros esfuerzos en persuadirlos para que voten. El segundo análisis que debe hacerse es determinar cómo persuadirlos. Esto se incluye en la categoría de cambio de comportamiento y requiere que hagamos un trabajo experimental. Al combinar el análisis predictivo y el análisis de cambios de comportamiento, podemos tener una lista de personas a las que se debe dirigir y un enfoque para persuadirlos.\n",
    "\n",
    "Además de hacer el análisis, un buen alcance también debe definir un proceso de validación de cada uno de los análisis, utilizando tanto datos históricos como una prueba de campo."
   ]
  },
  {
   "cell_type": "markdown",
   "metadata": {},
   "source": [
    "## Cuestiones éticas:\n",
    "Las cuestiones éticas deben tenerse en cuenta durante todo el proceso de determinación del alcance y ejecución del proyecto. A menudo, la conversación inicial sobre la ética girará en torno a los valores que queremos que tenga la solución que estamos construyendo. No se trata de ciencia de datos o IA, sino de los valores sociales que queremos tener. Necesitamos asegurarnos de que esto no sea una ocurrencia tardía o una carga, sino más bien un área de enfoque crítica y continua, y que involucre a todas las partes interesadas, especialmente a las personas que se verán afectadas por este sistema.\n",
    "\n",
    "Algunos de los temas que deben discutirse incluyen:\n",
    "\n",
    "_Transparencia_\n",
    "- ¿Saben las personas que \"poseen\" los datos que los está utilizando?\n",
    "- ¿Qué acciones está tomando sobre las personas en función de estos datos?\n",
    "- ¿Saben las personas a las que está \"apuntando\" por qué y si están siendo \"apuntados\"?\n",
    "- ¿Qué recurso tienen?\n",
    "- ¿Sería la portada del periódico nacional si se enteraran de lo que estás haciendo?\n",
    "- ¿Qué partes interesadas deben saber qué partes del proyecto?\n",
    "\n",
    "\n",
    "_Discriminación / Equidad_\n",
    "- ¿A qué grupos específicos desea garantizar la equidad de los resultados?\n",
    "- ¿Cómo definiría la equidad? ¿Durante qué período de tiempo?\n",
    "- ¿Cómo detectamos las inequidades?\n",
    "- ¿Cómo reducimos las inequidades?\n",
    "- ¿Cómo mitigamos el impacto en la equidad de un sistema sesgado?\n",
    "\n",
    "_Responsabilidad_\n",
    "- ¿Quiénes son las personas responsables y responsables de todas las cosas anteriores?\n",
    "- Licencia social\n",
    "- Si toda la población del país se entera de su proyecto, ¿estarán de acuerdo con él? ¿Por qué?\n",
    "\n",
    "_Privacidad / Confidencialidad y Seguridad_\n",
    "- ¿Cuáles son las consideraciones de privacidad (legales y éticas)?\n",
    "- ¿Cómo se protege la privacidad de las personas en los datos?\n",
    "- ¿Y la confidencialidad?\n",
    "- ¿Cuáles son las consideraciones y protecciones de seguridad? ¿Quién tiene acceso a qué partes de los datos? - - ¿Con qué fines? ¿Qué es el proceso de auditoría de seguridad?\n",
    "- ¿Alguna otra consideración ética? \n"
   ]
  },
  {
   "cell_type": "markdown",
   "metadata": {},
   "source": [
    "## Resumen\n",
    "\n",
    "Con suerte, esto les brinda a las agencias gubernamentales y organizaciones sin fines de lucro una descripción general de cómo analizar el alcance de los proyectos de análisis / ciencia de datos y qué preguntas deben responder antes de lanzar el proyecto.\n",
    "\n",
    "1. Metas  - Defina la (s) meta (s) del proyecto\n",
    "\n",
    "2. Acciones  - ¿Qué acciones / intervenciones tiene que informará este proyecto?\n",
    "\n",
    "3. Datos  : ¿a qué datos tiene acceso internamente? ¿Qué datos necesitas? ¿Qué puede aumentar de fuentes externas y / o públicas?\n",
    "\n",
    "4. Análisis  - ¿Qué análisis se necesita hacer? ¿Implica descripción, detección, predicción o cambio de comportamiento? ¿Cómo se validará el análisis?\n",
    "\n",
    "- Consideraciones éticas : ¿Cómo ha pensado en las cuestiones de privacidad, transparencia, discriminación / equidad y responsabilidad en torno a este proyecto?\n",
    "\n",
    "También hemos creado una  __Hoja de trabajo en blanco para el alcance del proyecto__  que puede usar, así como una  __Hoja de trabajo para el alcance del proyecto__ para las elecciones . Nos encantaría recibir comentarios sobre su uso, ya que con frecuencia realizamos talleres y capacitaciones sobre el alcance de proyectos para estudiantes, así como para agencias gubernamentales y organizaciones sin fines de lucro. Si está interesado en ser parte de esta capacitación,  háganoslo saber ."
   ]
  },
  {
   "cell_type": "markdown",
   "metadata": {},
   "source": [
    "# Referencias \n",
    "\n",
    "- [Data Science Project Scoping Guide](http://www.datasciencepublicpolicy.org/our-work/tools-guides/data-science-project-scoping-guide/)"
   ]
  },
  {
   "cell_type": "code",
   "execution_count": null,
   "metadata": {},
   "outputs": [],
   "source": []
  }
 ],
 "metadata": {
  "kernelspec": {
   "display_name": "Python 3 (ipykernel)",
   "language": "python",
   "name": "python3"
  },
  "language_info": {
   "codemirror_mode": {
    "name": "ipython",
    "version": 3
   },
   "file_extension": ".py",
   "mimetype": "text/x-python",
   "name": "python",
   "nbconvert_exporter": "python",
   "pygments_lexer": "ipython3",
   "version": "3.10.13"
  }
 },
 "nbformat": 4,
 "nbformat_minor": 4
}
