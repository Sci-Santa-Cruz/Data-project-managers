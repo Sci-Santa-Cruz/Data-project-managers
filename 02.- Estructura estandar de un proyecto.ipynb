{
 "cells": [
  {
   "attachments": {},
   "cell_type": "markdown",
   "metadata": {},
   "source": [
    "# ¿Por qué utilizar esta estructura de proyecto?"
   ]
  },
  {
   "attachments": {},
   "cell_type": "markdown",
   "metadata": {},
   "source": [
    "- Si bien estos productos finales son generalmente el evento principal, es fácil concentrarse en hacer que los productos se vean bien e ignorar la calidad del código que los genera . \n",
    "\n",
    "- Debido a que estos productos finales se crean mediante programación, la calidad del código sigue siendo importante}\n",
    "\n",
    "- Y no estamos hablando de eliminar la estética de la sangría o los estándares de formato pedantes; en última instancia, la calidad del código de la ciencia de datos se trata de corrección y reproducibilidad.\n",
    "\n",
    "- no existe una fórmula mágica para convertir la exploración de datos en una progresión lineal simple.\n",
    "\n",
    "- no es un proceso que se preste a pensar detenidamente sobre la estructura de su código o diseño del proyecto, por lo que es mejor comenzar con una estructura lógica y limpia y ceñirse a ella en todo momento. Creemos que es una gran ventaja utilizar una configuración bastante estandarizada como esta.\n"
   ]
  },
  {
   "attachments": {},
   "cell_type": "markdown",
   "metadata": {},
   "source": [
    "Una estructura de proyecto estándar bien definida significa que un recién llegado puede comenzar a comprender un análisis sin tener que profundizar en la documentación extensa. También significa que no necesariamente tienen que leer el 100% del código antes de saber dónde buscar cosas muy específicas."
   ]
  },
  {
   "attachments": {},
   "cell_type": "markdown",
   "metadata": {},
   "source": [
    "El código bien organizado tiende a ser autodocumentado en el sentido de que la propia organización proporciona contexto para su código sin mucha sobrecarga. La gente te lo agradecerá porque pueden:\n",
    "\n",
    "Colabore más fácilmente con usted en este análisis\n",
    "Aprenda de su análisis sobre el proceso y el dominio\n",
    "Tener confianza en las conclusiones a las que llega el análisis"
   ]
  },
  {
   "attachments": {},
   "cell_type": "markdown",
   "metadata": {},
   "source": [
    "Otro gran ejemplo es el estándar de jerarquía del sistema de archivos para sistemas similares a Unix. El /etcdirectorio tiene un propósito muy específico, al igual que la /tmpcarpeta, y todos (más o menos) están de acuerdo en cumplir con ese contrato social. "
   ]
  },
  {
   "cell_type": "code",
   "execution_count": null,
   "metadata": {},
   "outputs": [],
   "source": []
  },
  {
   "attachments": {},
   "cell_type": "markdown",
   "metadata": {},
   "source": [
    "¿Alguna vez intentó reproducir un análisis que hizo hace unos meses o incluso hace unos años? Es posible que haya escrito el código, pero es ahora imposible de descifrar si debe usar \n",
    "- make_figures.py.old \n",
    "- make_figures_working.pyo \n",
    "- new_make_figures01.py\n",
    "\n",
    "para hacer las cosas. Aquí hay algunas preguntas que hemos aprendido a hacer con un sentido de pavor existencial:\n",
    "\n",
    "* ¿Se supone que debemos entrar y unir la columna X a los datos antes de comenzar o eso vino de uno de los cuadernos?\n",
    "* Ahora que lo pienso, ¿qué cuaderno tenemos que ejecutar primero antes de ejecutar el código de trazado: era \"datos de proceso\" o \"datos limpios\"?\n",
    "* ¿De dónde se descargaron los shapefiles para las parcelas geográficas?\n",
    "* Etcétera, tiempos infinitos."
   ]
  },
  {
   "attachments": {},
   "cell_type": "markdown",
   "metadata": {},
   "source": [
    "Este tipo de preguntas son dolorosas y son síntomas de un proyecto desorganizado. Una buena estructura de proyecto fomenta prácticas que facilitan la vuelta al trabajo anterior, por ejemplo, la separación de preocupaciones, la abstracción del análisis como un DAG y las mejores prácticas de ingeniería como el control de versiones."
   ]
  },
  {
   "cell_type": "code",
   "execution_count": null,
   "metadata": {},
   "outputs": [],
   "source": []
  }
 ],
 "metadata": {
  "kernelspec": {
   "display_name": "Python 3 (ipykernel)",
   "language": "python",
   "name": "python3"
  },
  "language_info": {
   "codemirror_mode": {
    "name": "ipython",
    "version": 3
   },
   "file_extension": ".py",
   "mimetype": "text/x-python",
   "name": "python",
   "nbconvert_exporter": "python",
   "pygments_lexer": "ipython3",
   "version": "3.10.13"
  }
 },
 "nbformat": 4,
 "nbformat_minor": 4
}
