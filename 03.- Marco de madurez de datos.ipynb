{
 "cells": [
  {
   "cell_type": "markdown",
   "metadata": {},
   "source": [
    "\n",
    "# ¿Quiere saber si su organización está lista para iniciar un proyecto  basado en datos? \n",
    "\n",
    "Vea dónde se encuentra en nuestro marco de madurez de datos y cómo mejorar su organización, tecnología y preparación de datos.\n",
    "\n",
    "El marco de madurez de datos tiene tres áreas de contenido:\n",
    "\n",
    "- Definición del problema\n",
    "- Disponibilidad de datos y tecnología\n",
    "- Preparación organizacional\n",
    "\n",
    "El marco de madurez de datos consta de:\n",
    "\n",
    "- Un cuestionario y una encuesta para evaluar la preparación.\n",
    "- Matriz de preparación de datos y tecnología\n",
    "- Matriz de preparación organizacional\n",
    "\n",
    "Los materiales del marco se pueden descargar  aquí y puede completar nuestra encuesta  aquí . Lanzaremos un informe de evaluación comparativa agregado sobre el estado de los datos en organizaciones sin fines de lucro y gubernamentales. Solicitamos que cada problema se ingrese como una entrada separada (en lugar de que varios problemas de una organización ingresen en la misma respuesta)."
   ]
  },
  {
   "cell_type": "code",
   "execution_count": null,
   "metadata": {},
   "outputs": [],
   "source": []
  }
 ],
 "metadata": {
  "kernelspec": {
   "display_name": "Python 3 (ipykernel)",
   "language": "python",
   "name": "python3"
  },
  "language_info": {
   "codemirror_mode": {
    "name": "ipython",
    "version": 3
   },
   "file_extension": ".py",
   "mimetype": "text/x-python",
   "name": "python",
   "nbconvert_exporter": "python",
   "pygments_lexer": "ipython3",
   "version": "3.10.13"
  }
 },
 "nbformat": 4,
 "nbformat_minor": 4
}
