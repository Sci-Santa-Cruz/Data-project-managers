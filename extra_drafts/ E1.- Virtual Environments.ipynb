{
 "cells": [
  {
   "cell_type": "markdown",
   "metadata": {},
   "source": [
    "## Uso de  Virtual Environments"
   ]
  },
  {
   "cell_type": "markdown",
   "metadata": {},
   "source": [
    "Las aplicaciones de Python suelen utilizar paquetes y módulos que no forman parte de la biblioteca estándar. Las aplicaciones a veces necesitarán una versión específica de una biblioteca, porque la aplicación puede requerir que se haya corregido un error en particular o la aplicación puede escribirse usando una versión obsoleta de la interfaz de la biblioteca.\n",
    "\n",
    "Esto significa que puede que no sea posible que una instalación de Python cumpla con los requisitos de cada aplicación. Si la aplicación A necesita la versión 1.0 de un módulo en particular, pero la aplicación B necesita la versión 2.0, entonces los requisitos están en conflicto y la instalación de la versión 1.0 o 2.0 dejará una aplicación incapaz de ejecutarse.\n",
    "\n",
    "La solución para este problema es crear un entorno virtual , un árbol de directorios autónomo que contiene una instalación de Python para una versión particular de Python, además de varios paquetes adicionales.\n",
    "\n",
    "Entonces, diferentes aplicaciones pueden utilizar diferentes entornos virtuales. Para resolver el ejemplo anterior de requisitos en conflicto, la aplicación A puede tener su propio entorno virtual con la versión 1.0 instalada, mientras que la aplicación B tiene otro entorno virtual con la versión 2.0. Si la aplicación B requiere que se actualice una biblioteca a la versión 3.0, esto no afectará el entorno de la aplicación A."
   ]
  },
  {
   "cell_type": "markdown",
   "metadata": {},
   "source": [
    "## Proyectos y POC"
   ]
  },
  {
   "cell_type": "markdown",
   "metadata": {},
   "source": [
    "Cada proyecto o prueba de conceptos debe tener su entorno virtual apropiado, la versión de python debe ser la $3.10$ y se debe utilizar el archivo  `requirements.txt` para intalar los paquetes más comunes de forma automática. Para la etapa de  desarrollo  sobre el `Jyputer notebook`"
   ]
  },
  {
   "cell_type": "markdown",
   "metadata": {},
   "source": [
    "Creación :"
   ]
  },
  {
   "cell_type": "code",
   "execution_count": 1,
   "metadata": {},
   "outputs": [],
   "source": [
    "#conda create -n <nombre> python=3.6\n",
    "#conda list -e > requirements.txt\n",
    "#conda create --name <env> --file requirements.txt"
   ]
  },
  {
   "cell_type": "markdown",
   "metadata": {},
   "source": [
    "Instalación de dependencias posterior a la creación "
   ]
  },
  {
   "cell_type": "code",
   "execution_count": 2,
   "metadata": {},
   "outputs": [],
   "source": [
    "#pip install -r requirements.txt"
   ]
  },
  {
   "cell_type": "markdown",
   "metadata": {},
   "source": [
    "Eliminar entorno virtual"
   ]
  },
  {
   "cell_type": "code",
   "execution_count": null,
   "metadata": {},
   "outputs": [],
   "source": [
    "#conda remove --name <nombre> --all "
   ]
  },
  {
   "cell_type": "markdown",
   "metadata": {},
   "source": [
    "Guardar dependencias al archivo de texto"
   ]
  },
  {
   "cell_type": "code",
   "execution_count": null,
   "metadata": {},
   "outputs": [],
   "source": [
    "#conda <env> export > <env_name>.yml"
   ]
  },
  {
   "cell_type": "code",
   "execution_count": 3,
   "metadata": {},
   "outputs": [],
   "source": [
    "#pip freeze > requirements.txt"
   ]
  },
  {
   "cell_type": "markdown",
   "metadata": {},
   "source": [
    "Activar entorno virtual"
   ]
  },
  {
   "cell_type": "code",
   "execution_count": 5,
   "metadata": {},
   "outputs": [],
   "source": [
    "#conda activate <name>"
   ]
  }
 ],
 "metadata": {
  "kernelspec": {
   "display_name": "Python 3 (ipykernel)",
   "language": "python",
   "name": "python3"
  },
  "language_info": {
   "codemirror_mode": {
    "name": "ipython",
    "version": 3
   },
   "file_extension": ".py",
   "mimetype": "text/x-python",
   "name": "python",
   "nbconvert_exporter": "python",
   "pygments_lexer": "ipython3",
   "version": "3.13.5"
  }
 },
 "nbformat": 4,
 "nbformat_minor": 4
}
