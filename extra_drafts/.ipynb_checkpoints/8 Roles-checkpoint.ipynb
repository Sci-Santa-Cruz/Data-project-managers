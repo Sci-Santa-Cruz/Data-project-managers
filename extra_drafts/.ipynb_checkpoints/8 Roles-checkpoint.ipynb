{
 "cells": [
  {
   "cell_type": "markdown",
   "metadata": {},
   "source": [
    "# Roles de un proyecto de visualización "
   ]
  },
  {
   "cell_type": "markdown",
   "metadata": {},
   "source": [
    "El tema de alcance final a considerar en esta etapa de su proyecto de diseño de visualización es una evaluación de sus capacidades personales y las de cualquier colaboradorque involucras en el trabajo. \n",
    "* ¿Qué habilidades y conocimientos posee o carece colectivamente?"
   ]
  },
  {
   "cell_type": "markdown",
   "metadata": {},
   "source": [
    "Los roles se relacionan con las diferentes perspectivas de pensamiento que debemos tratar de ocupar al abordar problemas complejos, este es un intento de organizar los diferentes atributos necesarios para lograr el éxito en la visualización.\n",
    "\n",
    "\n",
    "Debería ayudarlo a reconocer dónde encaja en el espectro de deberes y responsabilidades, ayudándole a identificar sus fortalezas y debilidades en consecuencia. Luego, puede optar por abordar estas debilidades personalmente o tapar las brechas con el apoyo de otros.\n",
    "\n",
    "Una mirada analítica al rango de capacidades requeridas revela un rol y una necesidad para muchos tipos de personas, que por supuesto pueden ser cumplidas por varias personas o solo una."
   ]
  },
  {
   "cell_type": "markdown",
   "metadata": {},
   "source": [
    "\n"
   ]
  },
  {
   "cell_type": "markdown",
   "metadata": {},
   "source": [
    "<img src=\"images/roles_1.png\" alt=\"Drawing\" style=\"width:900px;\"/>"
   ]
  },
  {
   "cell_type": "markdown",
   "metadata": {},
   "source": [
    "<img src=\"images/roles_2.png\" alt=\"Drawing\" style=\"width:900px;\"/>"
   ]
  },
  {
   "cell_type": "code",
   "execution_count": null,
   "metadata": {},
   "outputs": [],
   "source": []
  }
 ],
 "metadata": {
  "kernelspec": {
   "display_name": "Python 3",
   "language": "python",
   "name": "python3"
  },
  "language_info": {
   "codemirror_mode": {
    "name": "ipython",
    "version": 3
   },
   "file_extension": ".py",
   "mimetype": "text/x-python",
   "name": "python",
   "nbconvert_exporter": "python",
   "pygments_lexer": "ipython3",
   "version": "3.7.0"
  }
 },
 "nbformat": 4,
 "nbformat_minor": 2
}
