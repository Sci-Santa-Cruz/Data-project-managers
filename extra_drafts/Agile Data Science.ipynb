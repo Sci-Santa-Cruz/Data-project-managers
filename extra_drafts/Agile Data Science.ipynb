{
 "cells": [
  {
   "cell_type": "markdown",
   "metadata": {},
   "source": [
    "La ciencia de datos ágil no se trata solo de cómo enviar software que funcione, sino de cómo alinear mejor la ciencia de datos con el resto de la organización.\n",
    "\n",
    "La ciencia de datos trata de experimentos y generación de conocimiento a traves de los datos, los cuales no pueden ser apresuradas o tratadas como un proceso de desarrollo de software\n",
    "\n",
    "Existe una desalineación crónica entre la ciencia de datos y la ingeniería, donde el equipo de ingeniería a menudo se pregunta qué está haciendo el equipo de ciencia de datos mientras realiza análisis de datos exploratorios e investigación aplicada. El equipo de ingeniería a menudo no está seguro de qué hacer mientras tanto, creando el     \"tirón de la cascada\", dondeproyectos supuestamente ágiles adquieren características de cascada. Agile Data Science cierra esta brecha entre los dos equipos, creando una alineación más poderosa de sus esfuerzos.\n",
    "\n",
    "\n",
    "Pero hay un problema. Trabajar con datos reales en la naturaleza, hacer ciencia de datos y realizar una investigación seria lleva tiempo, más que un ciclo ágil (del orden de meses). Lleva más tiempo del disponible en muchas organizaciones para un sprint de proyecto, lo que significa que el investigador aplicado de hoy está más que presionado por el tiempo. La ciencia de datos está estancada en el programa de software de la vieja escuela conocido comoel método de la cascada .\n",
    "\n",
    " desarrollo ágil y ciencia de datos en grandes conjuntos de datos; fusionar la investigación y la ingeniería en una relación productiva"
   ]
  },
  {
   "cell_type": "markdown",
   "metadata": {},
   "source": [
    "### ¿Hay algún problema?\n",
    "\n",
    "Es posible crear una ventaja competitiva y resolver problemas valiosos utilizando datos. Muchas organizaciones están logrando generar historias de éxito legítimas a partir de sus inversiones en ciencia de datos y análisis de dato.\n",
    "\n",
    "- El vicepresidente de innovación de productos, Carlos Uribe-Gómez, y el director de productos, Neil Hunt, publicaron un documento que dice que algunos de sus algoritmos de recomendación le ahorran a Netflix mil millones de dólares cada año en una reducción de la rotación.\n",
    "\n",
    "- Una de las iniciativas de ciencia de datos de Monsanto para mejorar el transporte y la logística global ofrece ahorros anuales y reducción de costos de casi $ 14 millones, al tiempo que reduce las emisiones de C02 en 350 toneladas métricas (TM).\n",
    "\n",
    "- DeepMind de Alphabet, más conocido por su programa AlphaGo, ha desarrollado un sistema de inteligencia artificial (IA) en asociación con el Moorfield Eye Hospital de Londres para derivar el tratamiento de más de 50 enfermedades que amenazan la vista con tanta precisión como los médicos expertos líderes en el mundo.3"
   ]
  },
  {
   "cell_type": "markdown",
   "metadata": {},
   "source": [
    "No queriendo quedarse atrás, la mayoría de las organizaciones ahora están gastando mucho en tecnología costosa y contratando costosos equipos de científicos de datos, ingenieros de datos y analistas de datos para dar sentido a sus datos e impulsar decisiones. Lo que alguna vez fue una actividad de nicho incluso en las organizaciones más grandes, ahora se considera una competencia central. Las tasas de crecimiento de la inversión y la posición laboral son asombrosas considerando que el PIB mundial solo está creciendo a un 3,5% anual:"
   ]
  },
  {
   "cell_type": "markdown",
   "metadata": {},
   "source": [
    "- International Data Corp. (IDC) espera que los ingresos mundiales por big data y soluciones de análisis empresarial alcancen los 260.000 millones de dólares en 2022, una tasa de crecimiento anual compuesta del 11,9% durante el período 2017-2022.\n",
    "\n",
    "- Los informes de trabajos emergentes de LinkedIn clasifican a los ingenieros de aprendizaje automático, científicos de datos e ingenieros de big data como tres de los cuatro trabajos de más rápido crecimiento en los Estados Unidos entre 2012 y 2017. ¡Los puestos de científicos de datos aumentaron más del 650% durante ese período!5"
   ]
  },
  {
   "cell_type": "code",
   "execution_count": null,
   "metadata": {},
   "outputs": [],
   "source": []
  },
  {
   "cell_type": "markdown",
   "metadata": {},
   "source": [
    "Los residuos también existen en las operaciones de fabricación, las cadenas de suministro y el desarrollo de productos. Estos campos han adoptado con éxito una filosofía, el pensamiento Lean , para eliminar tanto desperdicio como sea posible, mejorar la calidad y aumentar la velocidad de comercialización. El pensamiento Lean nos permite analizar el análisis de datos y la actividad de la ciencia de datos para ver el desperdicio generado inadvertidamente por los procesos organizacionales existentes."
   ]
  },
  {
   "cell_type": "code",
   "execution_count": null,
   "metadata": {},
   "outputs": [],
   "source": [
    "- CULTURA ORGANIZACIONAL\n",
    "- CONOCIMIENTO DE LOS CIENTÍFICOS DE DATOS\n",
    "- Metodología\n",
    "- Alcance\n",
    "- liderasgo correcto\n",
    "barreras organizativas y culturales"
   ]
  }
 ],
 "metadata": {
  "kernelspec": {
   "display_name": "Python 3 (ipykernel)",
   "language": "python",
   "name": "python3"
  },
  "language_info": {
   "codemirror_mode": {
    "name": "ipython",
    "version": 3
   },
   "file_extension": ".py",
   "mimetype": "text/x-python",
   "name": "python",
   "nbconvert_exporter": "python",
   "pygments_lexer": "ipython3",
   "version": "3.10.12"
  }
 },
 "nbformat": 4,
 "nbformat_minor": 4
}
