{
 "cells": [
  {
   "cell_type": "code",
   "execution_count": null,
   "metadata": {},
   "outputs": [],
   "source": []
  },
  {
   "cell_type": "markdown",
   "metadata": {},
   "source": [
    "Las técnicas de minería de datos no existen en el vacío; existen en un contexto empresarial. Aunque las técnicas son interesantes por derecho propio, son un medio para un fin. "
   ]
  },
  {
   "cell_type": "markdown",
   "metadata": {},
   "source": [
    "Dos ciclos de vida del cliente\n",
    "\n",
    "El término ciclo de vida del cliente puede referirse a dos cosas diferentes: el ciclo de vida personal del cliente o el ciclo de vida de la relación con el cliente. Desde el punto de vista de la minería de datos, este último suele ser más importante."
   ]
  },
  {
   "cell_type": "markdown",
   "metadata": {},
   "source": [
    "El ciclo de vida del cliente\n",
    "\n",
    "Los clientes, ya sean individuos, hogares o empresas, cambian con el tiempo. Las nuevas empresas se convierten en empresas establecidas. Algunos se convierten en objetivos de adquisición. Algunos continúan creciendo de forma independiente. Finalmente, muchos fallan. El ciclo de vida de un individuo está marcado por eventos de la vida, como graduarse de la escuela secundaria, tener hijos, conseguir un trabajo, etc.Estas etapas de la vida son importantes para el marketing y la gestión de las relaciones con los clientes. Mudarse, por ejemplo, es un evento significativo. Cuando las personas se mudan, pueden comprar muebles nuevos, suscribirse al periódico local, abrir una nueva cuenta bancaria, etc. Saber quién se muda es útil para atacar a esas personas, especialmente para los vendedores de muebles, periódicos, compañías de cable y bancos (entre otros), especialmente dentro de unos días o semanas después de la mudanza. Esto también es cierto para otros eventos de la vida, desde graduarse de la escuela secundaria y la universidad hasta casarse, tener hijos, cambiar de trabajo, jubilarse, etc. Comprender estas etapas de la vida permite a las empresas definir productos y mensajes que resuenen con grupos particulares de personas.Algunas empresas se organizan en torno a etapas particulares de la vida. Una tienda de novias se especializa en vestidos de novia; Tal negocio crece no porque las mujeres se casen con más frecuencia, sino a través de la reputación y las recomendaciones. Del mismo modo, las compañías de mudanzas no necesitan alentar a sus clientes recientes a mudarse; necesitan traer nuevos clientes.Para la mayoría de las empresas, el ciclo de vida individual del cliente es menos importante. En cualquier caso, gestionar las relaciones con los clientes en función de las etapas de la vida es difícil porque:Identificar eventos de manera oportuna es un desafío.Muchos eventos son únicos o muy raros.Los eventos de la etapa de la vida son generalmente impredecibles y están fuera de su control."
   ]
  },
  {
   "cell_type": "markdown",
   "metadata": {},
   "source": [
    "El ciclo de vida del cliente\n",
    "\n",
    "\n",
    "La relación comercial con un cliente evoluciona con el tiempo. Aunque cada negocio es diferente, la relación con el cliente los ubica en cinco fases principales, como se muestra en la Figura "
   ]
  },
  {
   "cell_type": "code",
   "execution_count": null,
   "metadata": {},
   "outputs": [],
   "source": [
    "c02f001.jpg"
   ]
  },
  {
   "cell_type": "markdown",
   "metadata": {},
   "source": [
    "Relaciones basadas en eventos\n",
    "\n",
    "Las relaciones basadas en eventos se basan en transacciones. El cliente puede o no regresar; El seguimiento de los clientes a lo largo del tiempo puede ser difícil o imposible. En los ejemplos anteriores, la compañía telefónica puede no tener mucha información sobre el cliente, especialmente cuando el cliente paga en efectivo. Las transacciones anónimas aún tienen información; sin embargo, claramente existe poca oportunidad para enviar mensajes directos a clientes que no brindan información de contacto."
   ]
  },
  {
   "cell_type": "markdown",
   "metadata": {},
   "source": [
    "Relaciones basadas en suscripción\n",
    "\n",
    "Las relaciones basadas en suscripciones brindan oportunidades más naturales para comprender a los clientes. En la lista dada anteriormente, los dos últimos ejemplos tienen relaciones de facturación en curso donde los clientes han acordado pagar por un servicio con el tiempo. Una relación de suscripción ofrece la oportunidad de un flujo de caja futuro (el flujo de pagos futuros del cliente) y muchas oportunidades para interactuar con cada cliente."
   ]
  },
  {
   "cell_type": "markdown",
   "metadata": {},
   "source": [
    "Adquisición de clientes\n",
    "\n",
    "La adquisición de clientes es el proceso de atraer clientes potenciales y convertirlos en clientes. Esto a menudo se realiza mediante publicidad y boca a boca, así como mediante marketing dirigido. La minería de datos puede y juega un papel importante en la adquisición.Hay tres preguntas importantes con respecto a la adquisición: ¿Quiénes son los prospectos? ¿Cuándo se adquiere un cliente? ¿Cuál es el papel de la minería de datos?"
   ]
  },
  {
   "cell_type": "markdown",
   "metadata": {},
   "source": [
    "¿Quiénes son las perspectivas?\n",
    "\n",
    "Comprender las perspectivas es importante porque los mensajes deben estar dirigidos a la audiencia adecuada. Uno de los desafíos del uso de datos históricos es que la base de clientes potenciales puede cambiar con el tiempo:La expansión geográfica trae perspectivas, que pueden o no ser similares a los clientes en las áreas originales.Los cambios en los productos, servicios y precios pueden atraer diferentes audiencias objetivo.La competencia puede cambiar la mezcla de prospección.Este tipo de situaciones plantea la pregunta: ¿Será el pasado un buen predictor del futuro? En la mayoría de los casos, la respuesta es \"sí\", pero el pasado debe usarse de manera inteligente."
   ]
  },
  {
   "cell_type": "markdown",
   "metadata": {},
   "source": [
    "¿Cuándo se adquiere un cliente?\n",
    "\n",
    "Generalmente hay un proceso subyacente para la adquisición de clientes; Los detalles del proceso dependen de la industria en particular, pero algunos pasos generales son los siguientes:Los clientes responden de alguna manera y en alguna fecha. Esta es la fecha de \"venta\".En una relación basada en la cuenta, se crea la cuenta. Esta es la \"fecha de apertura de la cuenta\".La cuenta se usa de alguna manera, y esta es la \"fecha de activación\" o \"primera fecha de compra\"."
   ]
  },
  {
   "cell_type": "markdown",
   "metadata": {},
   "source": [
    "Suponiendo que todas las fechas relevantes estén disponibles, ¿cuál es la mejor para usar? Eso depende de la necesidad del negocio. Después de una caída de correo directo o una explosión de correo electrónico, ver la curva de respuesta para saber cuándo se espera que lleguen las respuestas puede ser interesante, como se muestra en la Figura"
   ]
  },
  {
   "cell_type": "code",
   "execution_count": null,
   "metadata": {},
   "outputs": [],
   "source": [
    "c02f003.jpg"
   ]
  },
  {
   "cell_type": "markdown",
   "metadata": {},
   "source": [
    "Una pregunta diferente podría tener una respuesta diferente. Para comparar las tasas de respuesta de diferentes grupos, por ejemplo, la fecha de apertura de la cuenta podría ser más importante. Las perspectivas que registran una \"venta\" pero cuya cuenta nunca abre deben excluirse de dicho análisis."
   ]
  },
  {
   "cell_type": "markdown",
   "metadata": {},
   "source": [
    "¿Cuál es el papel de la minería de datos?\n",
    "\n",
    "Los datos disponibles limitan el papel que puede desempeñar la minería de datos. El modelado de respuesta se utiliza para canales como el correo directo y el telemarketing, donde el costo de contacto es relativamente alto. El objetivo es limitar los contactos a las perspectivas que tienen más probabilidades de responder y convertirse en buenos clientes. Los datos disponibles para tales esfuerzos se dividen en tres categorías:Fuente de perspectivaDatos individuales / domésticos adjuntosDatos demográficos agregados a nivel geográfico (bloque de censo típico o grupo de bloque de censo)"
   ]
  },
  {
   "cell_type": "markdown",
   "metadata": {},
   "source": [
    "Aplicaciones de minería de datos para adquisición de clientes\n",
    "\n",
    "Para la mayoría de las empresas, relativamente pocos de los aproximadamente siete mil millones de personas de la Tierra son en realidad prospectos. La mayoría se puede excluir en función de la geografía, la edad, la capacidad de pago, el idioma o la necesidad del producto o servicio. Un banco que ofrezca líneas de crédito con garantía hipotecaria restringiría naturalmente las ofertas de este tipo a los propietarios de viviendas que residen en jurisdicciones donde el banco tiene licencia para operar. A una empresa que vende juegos de columpios para patios traseros le gustaría llegar a hogares con niños en direcciones que parecen tener patios traseros. Una revista está dirigida a personas que leen el idioma apropiado y serán de interés para sus anunciantes.La minería de datos puede desempeñar muchos papeles en la prospección. Los más importantes de estos son:Identificando buenas perspectivasElegir un canal de comunicación para llegar a clientes potencialesElegir mensajes apropiados para diferentes grupos de prospectosAunque todo esto es importante, el primero, identificar buenas perspectivas, es el más implementado."
   ]
  },
  {
   "cell_type": "markdown",
   "metadata": {},
   "source": [
    "Identificando buenas perspectivas\n",
    "\n",
    "La definición más simple de un buen prospecto, y la utilizada por muchas compañías, es alguien que al menos podría expresar interés en convertirse en cliente. Las definiciones más sofisticadas son más selectivas. Las perspectivas verdaderamente buenas no solo están interesadas en convertirse en clientes; pueden permitirse el lujo de convertirse en clientes, será rentable tenerlos como clientes, es poco probable que defrauden a la empresa y paguen sus facturas, y si se les trata bien, serán clientes leales y recomendarán a otros. No importa cuán simple o sofisticada sea la definición de un prospecto, la primera tarea es encontrarlos.La orientación es importante tanto si el mensaje debe transmitirse a través de publicidad como a través de canales más directos como correos, llamadas telefónicas o correo electrónico. Incluso los mensajes en las vallas publicitarias están dirigidos hasta cierto punto; Las vallas publicitarias para compañías aéreas y compañías de alquiler de automóviles tienden a encontrarse al lado de las autopistas que conducen a aeropuertos donde las personas que usan estos servicios probablemente se encuentren entre las personas que conducen.Para aplicar la minería de datos, primero defina lo que significa ser un buen prospecto y luego encuentre reglas que permitan que las personas con esas características sean seleccionadas. Para muchas empresas, el primer paso hacia el uso de la minería de datos para identificar buenas perspectivas es construir un modelo de respuesta. Más adelante en este capítulo hay una discusión extendida sobre los modelos de respuesta, las diversas formas en que se emplean y lo que pueden y no pueden hacer."
   ]
  },
  {
   "cell_type": "markdown",
   "metadata": {},
   "source": [
    "¿Quién se ajusta al perfil?\n",
    "\n",
    "Una forma de determinar si un cliente se ajusta a un perfil es medir la similitud, también llamada distancia, entre un cliente y el perfil. Los datos consisten en resultados de encuestas que representan una instantánea de los suscriptores en un momento determinado. ¿Qué tipo de medida tiene sentido con estos datos? Lo que debe hacerse sobre el hecho de que el perfil se expresa en términos de porcentajes (el 58 por ciento tiene educación universitaria; el 7 por ciento gana más de $ 100,000), mientras que un individuo tiene o no educación universitaria y gana o no gana más de $ 100,000 ?"
   ]
  },
  {
   "cell_type": "code",
   "execution_count": null,
   "metadata": {},
   "outputs": [],
   "source": [
    "c02tnt001.jpg"
   ]
  },
  {
   "cell_type": "code",
   "execution_count": null,
   "metadata": {},
   "outputs": [],
   "source": [
    "c02tnt002.jpg"
   ]
  }
 ],
 "metadata": {
  "kernelspec": {
   "display_name": "Python 3",
   "language": "python",
   "name": "python3"
  },
  "language_info": {
   "codemirror_mode": {
    "name": "ipython",
    "version": 3
   },
   "file_extension": ".py",
   "mimetype": "text/x-python",
   "name": "python",
   "nbconvert_exporter": "python",
   "pygments_lexer": "ipython3",
   "version": "3.7.0"
  }
 },
 "nbformat": 4,
 "nbformat_minor": 2
}
