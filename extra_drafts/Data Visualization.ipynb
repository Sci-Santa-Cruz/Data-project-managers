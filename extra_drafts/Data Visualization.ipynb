{
 "cells": [
  {
   "cell_type": "markdown",
   "metadata": {},
   "source": [
    "## Visualización de datos y análisis visual\n",
    "\n",
    "La visualización de datos es una forma de comunicación visual que presenta los datos en forma gráfica. Implica crear cuadros, gráficos y otras herramientas visuales que también incluyen cuadros bajos para comunicar la información en los datos de manera efectiva.\n",
    "\n",
    "Los avances en visualización de datos, análisis visual, análisis de negocios y análisis de big data están ayudando a detectar las áreas donde la mejora los esfuerzos pueden ser dirigidos. También están ayudando a mejorar la toma de decisiones en áreas críticas, como atención médica, empleo, perspectiva económica y desarrollo / productividad, delincuencia, seguridad, educación, desastres naturales y gestión de recursos, [1] [9] [12] por nombrar unos pocos. Sin embargo, vienen con una serie de desafíos. Estos incluyen infraestructura tecnológica inadecuada, privacidad, metodología apropiada y preparación y gestión de datos."
   ]
  },
  {
   "cell_type": "markdown",
   "metadata": {},
   "source": [
    "## Metodología"
   ]
  },
  {
   "cell_type": "markdown",
   "metadata": {},
   "source": [
    "- Adoptar una metodología consiste en reconocer las etapas clave, consideraciones y tácticas que lo ayudarán a navegar sin problemas a través de su proyecto de visualización.\n",
    "\n",
    "- El objetivo de una metodología es ser neutral en cuanto a la tecnología, poniendo énfasis en la concepción, el razonamiento y la toma de decisiones.\n",
    "\n",
    "- La variedad, la evolución y la naturaleza generalmente fragmentada del software/bliblotecas en este campo resalta la importancia adicional de la toma de decisiones razonadas como una solución consensuada de las diferentes opciones, independientemente de la riqueza y el poder que las soluciones individuales pueden ofrecer.\n",
    "\n",
    "- Enfatizar, si aún no estaba claro, que la visualización de datos no es una ciencia exacta. Rara vez, si acaso, hay una única respuesta correcta o la mejor solución.\n",
    "\n",
    "- La metodología está destinado a ser adoptado de manera flexible\n",
    "\n",
    "- Generalemnte, no debe ser una nueva e innovadora versión del proceso creativo.\n",
    "\n",
    "- Generalmente se basa en la interpretación personal basada en la experiencia y también en la exposición a las muchas personas brillantes que comparten sus propias narrativas de diseño."
   ]
  },
  {
   "cell_type": "markdown",
   "metadata": {},
   "source": [
    "## Enfoques del análsis de datos "
   ]
  },
  {
   "cell_type": "markdown",
   "metadata": {},
   "source": [
    "La visualización de datos es una parte esencial del análisis de datos. Los diferentes enfoques para el análisis de datos incluyen:\n",
    "\n",
    " -  Visualización de datos (las técnicas gráficas comúnmente utilizadas son histogramas, diagramas de dispersión, diagramas de superficie, diagramas de área, diagramas de series de tiempo, mapas de árboles y otros descritos en el Capítulo 3).\n",
    " \n",
    " - Métodos estadísticos que incluyen procedimientos de inferencia, como estimación, pruebas de hipótesis, análisis de varianza, análisis de regresión, etc.\n",
    "\n",
    "- Minería de datos (minería de asociación, etc.)\n",
    "\n",
    "- Análisis de datos, incluidas herramientas de análisis predictivo y prescriptivo.\n",
    "\n",
    "- Métodos de aprendizaje automático (agrupamiento, clasificación, árboles de decisión, etc.).\n",
    "\n",
    "\n",
    "Entre estos enfoques, el análisis de datos visuales es el más poderoso y fácil de usar y comprender. Se basa en las habilidades cognitivas de los analistas y le permite a uno visualizar las características y patrones en grandes cantidades de datos. El software de visualización de datos reciente puede procesar grandes cantidades de datos rápidamente y crear diferentes visualizaciones del mismo conjunto de datos que permite descubrir patrones ocultos o vistas simultáneas del proceso (por ejemplo, análisis de datos de procesamiento de pedidos en línea). Los gráficos en el software de visualización son simples y la mayoría de ellos se pueden aprender con bastante rapidez a menos que se requiera un análisis en profundidad. Más adelante en este capítulo, proporcionamos ejemplos de gráficos simples que son bastante fáciles de crear e interpretar. A veces, para un análisis analítico y profundo, herramientas estadísticas inferenciales, incluida la teoría de la estimación, Se requieren pruebas de hipótesis, análisis de varianza y otros. Esto requiere conocimiento de métodos estadísticos más allá del simple análisis gráfico. Para visualizaciones simples, el analista no tiene que aprender métodos sofisticados o teorías estadísticas para poder interpretar los gráficos."
   ]
  },
  {
   "cell_type": "markdown",
   "metadata": {},
   "source": [
    "# Contexto de la visualización de datos"
   ]
  },
  {
   "cell_type": "markdown",
   "metadata": {},
   "source": [
    "..."
   ]
  },
  {
   "cell_type": "markdown",
   "metadata": {},
   "source": [
    "# Establecer el propósito e identificar los factores clave\n",
    "\n",
    "Antes de emprender cualquier trabajo de diseño, debe tener claro la motivación detrás del inicio de un proyecto. Esto implica identificar para quién es y qué necesidades está tratando de satisfacer; Esto tiene una gran influencia en el alcance de su trabajo.\n",
    "\n",
    "El segundo aspecto del propósito analizará de cerca la intención detrás de su proyecto y cómo define la función y el tono de la visualización. Una vez más, abordamos esto ahora para que podamos comenzar a dar forma a nuestra toma de decisiones lo antes posible.\n",
    "\n",
    "Luego buscamos identificar y evaluar el impacto de los factores clave adicionales que tendrán un efecto en su proyecto. Esto lo ayudará a descubrir todas las restricciones, características y requisitos que rodean su proyecto que determinarán cómo abordarlo.\n",
    "\n",
    "Finalmente, consideraremos con mayor profundidad un asunto particularmente influyente: las habilidades, el conocimiento y las capacidades generales que son necesarias para lograr una solución de visualización efectiva.\n"
   ]
  },
  {
   "cell_type": "markdown",
   "metadata": {},
   "source": [
    "## Aclarando el propósito de su proyecto\n",
    "\n",
    "Comenzamos desde el principio. \n",
    "- ¿Por qué estamos haciendo este proyecto? \n",
    "- ¿Cual es su propósito?\n",
    "\n",
    "### La razón de existir\n",
    "\n",
    "Se trata de reconocer el desencadenante detrás del proyecto o el origen de donde surgió. Esto nos da una idea del alcance y el contexto de lo que estamos a punto de emprender, cuánto control creativo podríamos tener, si nos han animado a seguir una dirección creativa particular y qué ideas ya se han formado.\n",
    "\n",
    "\n",
    "Al recopilar esta información contextual, debe tener una idea razonablemente clara sobre los antecedentes del proyecto, lo que se le pide que haga, por qué lo está haciendo y para quién lo está haciendo.\n",
    "\n",
    "Un proyecto que surgio de una idea propia tiene un contexto completamente autodefinido, autodeterminado y más flexible que el de un proyecto comisionado. No involucra a un cliente, ni a un resumen, ni a un conjunto de instrucciones, ni a restricciones en cuanto al alcance, los plazos o la audiencia; en primer lugar, tiene un lienzo en blanco para seguir el aroma de lo que lo motivó. .\n"
   ]
  },
  {
   "cell_type": "markdown",
   "metadata": {},
   "source": [
    "### El efecto deseado\n",
    "\n",
    "\n",
    "Cualquiera que sea el motivación y antecedentes para realizar el proyecto, inevitablemente comenzará a formarse una visión en su mente de lo que podría estar a punto de crear, cómo podría verse y qué podría hacer. Este es un instinto natural al embarcarse en un proceso creativo.\n",
    "\n",
    "\n",
    "Es a partir de estas chispas de creatividad que cambiamos nuestros pensamientos a la segunda dimensión del propósito, que es el efecto deseado del proyecto de visualización. Este es un asunto realmente crítico, por lo que nos tomaremos un poco de tiempo para entenderlo.\n",
    "\n",
    " No está haciendo nada que no se pueda revertir o refinar más adelante, pero es importante establecer tanto enfoque y claridad sobre nuestras intenciones ahora para que podamos reducir la complejidad del desafío y la variedad potencial de la solución.Las elecciones que hagamos ahora también influirán en los recursos (técnicos y de personal) que podríamos necesitar desplegar.\n",
    " \n",
    " \n",
    " Lo que tenemos aquí es evidencia de diferentes dimensiones de intención. __Identificar el efecto deseado__  significa decidir qué pretendes lograr y cómo lo lograrás.\n",
    " \n",
    " La raíz de esto es una apreciación de su público objetivo, una de las consideraciones más importantes que debemos tener en cuenta. Durante esta definición inicial y trabajo de alcance, es crucial perfilar los lectores / usuarios previstos."
   ]
  },
  {
   "cell_type": "markdown",
   "metadata": {},
   "source": [
    "* ¿Es un entorno de sala de juntas con una pequeña colección de colegas de alto nivel que tienen conocimiento de un tema de dominio existente?\n",
    "* ¿Es una amplia gama de clientes, que abarca toda la demografía social, pero que potencialmente representa una audiencia cautiva para el tema?\n",
    "* ¿Es una audiencia completamente global e indefinida sin características influyentes, en cierto sentido, sin un objetivo específico, solo cualquiera y todos?\n",
    "* ¿Es un intercambio uno a uno con un gerente?\n",
    "* ¿Es un compromiso totalmente personal entre usted y los datos, un deseo de aprender y explorar los datos usted mismo?"
   ]
  },
  {
   "cell_type": "markdown",
   "metadata": {},
   "source": [
    "Claridad de qué y quién es su público objetivo ayudará a dar forma a su intención y, a partir de esto, podremos definir dos dimensiones muy importantes: la función y el tono de su proyecto de visualización."
   ]
  },
  {
   "cell_type": "markdown",
   "metadata": {},
   "source": [
    "# Establecimiento de la intención: la función de visualización"
   ]
  },
  {
   "cell_type": "markdown",
   "metadata": {},
   "source": [
    "La intención La función de visualización de datos se refiere a la experiencia funcional que crea entre su diseño, los datos y el lector/usuario.Si volvemos a visitar el rango de frases presentado anteriormente, es posible formar tres grupos separados o categorías de funciones. Si bien siempre existe la posibilidad de una ligera superposición, habrá una diferencia significativa en sus elecciones de diseño dependiendo de si la función de su visualización es:"
   ]
  },
  {
   "cell_type": "markdown",
   "metadata": {},
   "source": [
    "- Transmitir una representación explicativa de los datos a un lector\n",
    "- Proporcionar una interfaz a los datos para facilitar la exploración visual.\n",
    "- Usar datos como una exhibición de autoexpresión"
   ]
  },
  {
   "cell_type": "markdown",
   "metadata": {},
   "source": [
    "## Cuando la función es explicar"
   ]
  },
  {
   "cell_type": "markdown",
   "metadata": {},
   "source": [
    "Visualización explicativa de datos se trata de transmitir información a un lector de una manera que se base en una narrativa específica y enfocada. \n",
    "\n",
    "Requiere un enfoque orientado por el diseñador para sintetizar los requisitos de su público objetivo con las ideas clave y las dimensiones analíticas más importantes que desea transmitir.\n",
    "\n",
    "El resultado final es típicamente una experiencia visual construida alrededor de una narrativa cuidadosamente construida, diseño intuitivo y visual que represente claramente la narrativa que desea transmitir."
   ]
  },
  {
   "cell_type": "markdown",
   "metadata": {},
   "source": [
    "\n",
    "<img src=\"images/image_3462OT_02_02.jpg\" alt=\"Drawing\" style=\"width:600px;\"/>\n",
    "\n",
    "Aquí hay un ejemplo de un visualización explicativa, basada en un tipo de gráfico llamado Diagrama de Sankey , que retrata el análisis de los diez principales países consumidores de agua dulce y el desglose de su uso."
   ]
  },
  {
   "cell_type": "markdown",
   "metadata": {},
   "source": [
    "Tenga en cuenta que las visualizaciones explicativas no se limitan a ser simplemente estáticas en el diseño. De hecho, algunas de las piezas narrativas más impactantes pueden enmarcarse dentro de una construcción interactiva o animada."
   ]
  },
  {
   "cell_type": "markdown",
   "metadata": {},
   "source": [
    "### Cuando la función es explorar"
   ]
  },
  {
   "cell_type": "markdown",
   "metadata": {},
   "source": [
    "__Visualización exploratoria de datos__\n",
    "\n",
    "El diseño es un asunto ligeramente diferente en comparación con la creación de una pieza explicativa. Aquí, buscamos facilitar la familiarización y el razonamiento de los datos a través de una gama de experiencias impulsadas por los usuarios. A diferencia de las funciones explicativas, las visualizaciones exploratorias de datos carecen de una narrativa única y específica. Son más sobre análisis visual que solo la presentación visual de datos.\n",
    "\n",
    "\n",
    "Las soluciones exploratorias tienen como objetivo crear una herramienta, proporcionando al usuario una interfaz para explorar visualmente los datos. A través de esto, pueden buscar descubrimientos personales, patrones y relaciones, desencadenando e iterando curiosidades. También abre la posibilidad de hallazgos casuales o fortuitos causados por la formación de diferentes combinaciones de pantallas variables.\n",
    "\n",
    "Realmente, la característica clave que diferencia una pieza exploratoria de una pieza explicativa es la cantidad de trabajo que tiene que hacer como lector para descubrir ideas. Para piezas explicativas, el diseñador debe hacer el trabajo duro y crear una representación clara de las historias interesantes y el análisis de un conjunto de datos. Una pieza exploratoria será más acerca de los lectores haciendo el análisis ellos mismos, poniendo el esfuerzo en descubrir cosas que les parezcan significativas o interesantes."
   ]
  },
  {
   "cell_type": "markdown",
   "metadata": {},
   "source": [
    "\n",
    "\n",
    "<img src=\"images/image_3462OT_02_03.jpg\" alt=\"Drawing\" style=\"width:600px;\"/>"
   ]
  },
  {
   "cell_type": "markdown",
   "metadata": {},
   "source": [
    "### Cuando la función es exhibir datos"
   ]
  },
  {
   "cell_type": "markdown",
   "metadata": {},
   "source": [
    "\n",
    "Estamos hablando aquí de diseños que usan datos como materia prima, pero en los que la intención tal vez esté algo alejada del puro deseo de informar. Más bien, el objetivo está más cerca de una forma de exhibición o autoexpresión a través de la representación de datos. Este género de trabajo incorpora el término \"arte de datos\".\n",
    "\n",
    "El arte de datos se caracteriza por la falta de narrativa estructurada y la ausencia de capacidad de análisis visual. En cambio, la motivación es mucho más sobre la creación de un artefacto, una representación estética o quizás una demostración técnica / técnica. \n",
    "\n",
    "En el extremo, un diseño puede estar más guiado por la idea de diversión o diversión o tal vez la creación de ornamentación.\n",
    "\n",
    "Este aspecto particular de la visualización de datos es polémico simplemente porque desafía a aquellos que buscan identificar los límites de este campo y su proximidad a otras disciplinas como el diseño gráfico, el diseño generativo o el arte creativo."
   ]
  },
  {
   "cell_type": "markdown",
   "metadata": {},
   "source": [
    "\n",
    "<img src=\"images/image_3462OT_02_04.jpg\" alt=\"Drawing\" style=\"width:600px;\"/>\n",
    "\n",
    " vemos un ejemplo de arte de datos (tal como lo definió el creador mismo) que visualiza todos los adjetivos utilizados en el libro de Cormac McCarthy, The Road . Los adjetivos están dispuestos radialmente en orden alfabético y cada línea representa una línea de tiempo del libro, comenzando en el perímetro"
   ]
  },
  {
   "cell_type": "markdown",
   "metadata": {},
   "source": [
    "El efecto es un artefacto interesante para observar y su construcción es representativa de una solución técnica o algorítmica impresionante, pero su intención principal no es permitirnos aprender fácilmente sobre el lenguaje dentro libro.\n",
    "\n"
   ]
  },
  {
   "cell_type": "markdown",
   "metadata": {},
   "source": [
    "# Establecimiento de la intención: el tono de la visualización\n",
    "\n",
    "A veces habrá una superposición entre estas categorías, que de otro modo serían distintas, pero debería poder determinar con relativa claridad dónde su trabajo pretende encajar en la escala entre explicación, exploración y exhibición.\n",
    "\n",
    "Establecer un tono adecuado va más allá de la función y más hacia el estilo de la experiencia de diseño. Se trata del tipo de estímulo o respuesta emocional deseada que está tratando de crear. Por lo tanto, es importante para usted, como diseñador, poder razonar qué tipo de diseño logrará ese tono.\n",
    "\n",
    "Si bien es posiblemente una generalización cruda, el punto de vista del lado de la ciencia se caracteriza por preocuparse por preservar la eficiencia y la precisión de los juicios derivados de una visualización. Se cree que las variaciones en la representación de datos que se alejan de este objetivo reducen la calidad y la eficacia de una visualización.\n",
    "\n",
    "Por otro lado, la sección artística de la comunidad puede verse como preocupada por la experimentación, la búsqueda de expresiones creativas de datos y nuevas conexiones estéticas con una audiencia. Los practicantes en esta cohorte, por lo general, habrán llegado al campo de una sólida formación en ciencias de la computación o de diseño.\n",
    "\n",
    "¿cómo podemos racionalizar el papel de estas dos perspectivas y creencias muy diferentes y opuestas?\n",
    "\n",
    "este último mejora el campo al demostrar lo que se puede lograr a través de la creatividad estética y tecnológica. Los primeros nos ayudan a entender lo que debemos hacer a través de la búsqueda de evidencia y la observación de reglas en torno a la cognición humana y la percepción visual. Necesitamos visualizaciones que se vean atractivas y necesitamos visualizaciones que funcionen bien.\n",
    "\n",
    "\n",
    "La reacción de un usuario que lee, por ejemplo, un tablero lleno de gráficos de barras y gráficos de líneas para ayudar a monitorear el rendimiento mensual será bastante analítico y de estilo pragmático. Es poco probable que implique o provoque mucha emoción (a menos que las cosas se desplomen repentina e inesperadamente). El estilo del diseño de visualización será coherente con la naturaleza prevista de este tipo particular de compromiso, probablemente bastante sobrio y con énfasis en la precisión de la percepción.Compare eso con el impacto previsto de una presentación que describe cuántas vidas podrían salvarse si una organización benéfica lograra un cierto nivel de recaudación de fondos. El entorno y la intención se centrarán más en la persuasión, lo que lo carga emocionalmente. Tendrá que intentar crear una experiencia que sea mucho más personal y más impactante."
   ]
  },
  {
   "cell_type": "markdown",
   "metadata": {},
   "source": [
    "### Pragmático y analítico\n",
    "\n",
    "Los diseños que se ajustan a esta clasificación a menudo implicarán que los datos se representen mediante el uso de gráficos de barras, gráficos de líneas y gráficos de puntos, por ejemplo. Estilísticamente, se caracterizarán por una apariencia bastante clínica que es consistente con la siguiente imagen de muestra, tomada de un proyecto que analiza los resultados olímpicos a lo largo de los años:"
   ]
  },
  {
   "cell_type": "markdown",
   "metadata": {},
   "source": [
    "<img src=\"images/image_3462OT_02_05(new).jpg\" alt=\"Drawing\" style=\"width:600px;\"/>"
   ]
  },
  {
   "cell_type": "markdown",
   "metadata": {},
   "source": [
    "Crear una visualización con un tono pragmático consiste en reconocer la necesidad de un diseño que ofrezca representaciones de datos rápidas, eficientes y precisas. Por lo general, tendrá una audiencia cautiva, un público que quiere o necesita interactuar y aprender de los datos. \n",
    "\n",
    "Este podría ser un entorno corporativo, donde las personas necesitan simplemente aprender sobre el desempeño reciente de la actividad operativa o realizar un análisis visual para descubrir patrones potencialmente reveladores.En estos casos, no tiene ningún valor tratar de llamar la atención sobre la visualización, o tratar de alentar a alguien a leer o interactuar con un gráfico empleando novedad estética. \n",
    "\n",
    "Además, no se trata de intentar inyectar ninguna conexión emocional o metafórica con las historias de datos presentadas.La pureza yEl impacto de su función, la satisfacción que resulta de una ingesta eficiente de comprensión, cumple con la estética de los métodos de gráficos implementados. Ahí radica la elegancia del trabajo pragmático."
   ]
  },
  {
   "cell_type": "markdown",
   "metadata": {},
   "source": [
    "### Emotivo y abstracto\n",
    "\n",
    "La visualización abstracta, en términos de su tono, se trata más de crear una estética que retrate una historia general o un sentido de patrón. Es posible que no pueda seleccionar cada punto o categoría de datos, pero hay suficiente información visual para darle una idea de la fisicalidad de los datos."
   ]
  },
  {
   "cell_type": "markdown",
   "metadata": {},
   "source": [
    "\n",
    "\n",
    "\n",
    "<img src=\"images/image_3462OT_02_06.jpg\" alt=\"Drawing\" style=\"width:600px;\"/>\n",
    "\n",
    " red global de transporte de aerolíneas que consiste en todos los vuelos comerciales en todo el mundo. Las rutas destacadas son aquellos vuelos dentro y fuera del aeropuerto Toronto Pearson. El proyecto fue diseñado para evaluar la amenaza de enfermedades infecciosas."
   ]
  },
  {
   "cell_type": "markdown",
   "metadata": {},
   "source": [
    "Para visualizaciones más emotivas, es posible que esté buscando generar un tipo diferente de conexión emocional con el diseño. Esta conexión se produce tanto al comienzo del compromiso, creando atracción y atractivo, como después del compromiso, el resultado.\n",
    "\n",
    "A diferencia de los trabajos pragmáticos, como describimos en la introducción, aquí podríamos estar buscando lograr un impacto, enfatizar los problemas y tal vez generar un shock. También podríamos tratar de generar una cierta cantidad de atención visual a través de la novedad y la innovación de una manera que los enfoques más pragmáticos no podrían lograr."
   ]
  },
  {
   "cell_type": "markdown",
   "metadata": {},
   "source": [
    "\n",
    "\n",
    "<img src=\"images/image_3462OT_02_07.jpg\" alt=\"Drawing\" style=\"width:600px;\"/>\n",
    "\n",
    "En la siguiente imagen, vemos una sección tomada de una infografía de un periódico que representa el peaje sangriento de Iraq. Si bien el método gráfico no es nada más complejo que un gráfico de barras al revés, el tono es muy impactante y metafóricamente enfático, creando un fuerte efecto emocional. impacto en la historia que retrata:"
   ]
  },
  {
   "cell_type": "markdown",
   "metadata": {},
   "source": [
    "Por supuesto, es importante no estirar demasiado la responsabilidad funcional y tonal y la capacidad de visualización. Aquí es donde cualquier expectación exagerada y desproporcionada sobre el impacto potencial de la visualización de datos puede estar fuera de lugar.La visualización de datos es un medio para un fin, no un fin en sí mismo. \n",
    "\n",
    "Es simplemente un puente que conecta al mensajero con el receptor y sus limitaciones están enmarcadas por nuestras propias irracionalidades, prejuicios, suposiciones y gustos irracionales inherentes. Todos estos factores pueden minar la consistencia y confiabilidad de cualquier reacción pronosticada a una visualización dada, pero eso es algo en lo que no podemos influir de manera realista."
   ]
  },
  {
   "cell_type": "markdown",
   "metadata": {},
   "source": [
    "# Factores clave que rodean un proyecto de visualización"
   ]
  },
  {
   "cell_type": "markdown",
   "metadata": {},
   "source": [
    "Mientras se establece El propósito del proyecto de visualización establece el tono deseado del diseño y su función, inevitablemente hay muchos otros factores que tendrán una influencia significativa en la forma y dirección de nuestro diseño de visualización.\n",
    "\n",
    "Es especialmente importante identificar y reconocer el impacto de las condiciones contextuales, dentro y alrededor de su proyecto, que afectarán lo que puede y no puede lograr y cómo podría lograrlo."
   ]
  },
  {
   "cell_type": "markdown",
   "metadata": {},
   "source": [
    "__El objetivo :__  Debe demostrar excelentes habilidades de comunicación para asegurarse de buscar y obtener la mayor comprensión posible de lo que pretenden lograr, sus habilidades de comunicación para gestionar las expectativas (alcance y los requisitos del trabajo)"
   ]
  },
  {
   "cell_type": "markdown",
   "metadata": {},
   "source": [
    "__Tiempo :__ los proyectos tienen plazos claros. El desafío de mantener la creatividad objetiva frente a la disminución del tiempo es algo que pondrá a prueba severamente a los diseñadores de todas las experiencias. usar su tiempo de manera efectiva y de ahí vendrá el valor de seguir las tácticas de esta metodología.\n",
    "\n",
    "Planifique su trabajo y cree un diseño equilibrado priorisando tareas, visualización de tareas en paralelo\n"
   ]
  },
  {
   "cell_type": "markdown",
   "metadata": {},
   "source": [
    "__Costos :__ Sin duda surgirá la cuestión del recurso financiero, especialmente para proyectos a gran escala, Los costos influirán significativamente en el tiempo que puede comprometerse con un proyecto, el alcance para atraer colaboradores adicionales y la gama de herramientas o recursos técnicos que podría utilizar. Una vez más, las etapas de planificación y preparación serán invaluables para dar a conocer todos los problemas potenciales relacionados con asuntos financieros."
   ]
  },
  {
   "cell_type": "markdown",
   "metadata": {},
   "source": [
    "__Capacidades técnicas :__ aparte desus propias capacidades técnicas, \n",
    "\n",
    "* ¿Cuáles son los recursos técnicos a los que tiene acceso? \n",
    "\n",
    "Por ejemplo, \n",
    "\n",
    "* ¿Está limitado a herramientas gratuitas o puede acceder a más software premium? \n",
    "* ¿Tiene la infraestructura técnica más adecuada, como la velocidad y la capacidad del servidor si se trata de un proyecto en línea? \n",
    "\n",
    "Dependiendo de sus opciones de formato, \n",
    "* ¿Qué marcos va a implementar, qué navegadores necesita para que funcionen, qué tecnologías de base de datos de back-end necesitará? \n",
    "\n",
    "Este es un conjunto de decisiones muy amplio y muy técnico que probablemente requerirá la determinación de un técnico especialista."
   ]
  },
  {
   "cell_type": "markdown",
   "metadata": {},
   "source": [
    "__Presiones del cliente :__ \n",
    "\n",
    "Debe anticipar y reducir el impacto de posibles presiones inesperadas e interrupciones provenientes de su cliente o colegas.\n",
    "\n",
    "* Cambios en los requisitos\n",
    "* Nuevas demandas\n",
    "* Interferencia en la solución de diseño \n",
    "\n",
    "Otra manifestación de la presión que puede venir de los clientes insistencia en observar :\n",
    "\n",
    "* Identidades visuales \n",
    "* De marca de la organización\n",
    "* Las reglas de diseño, \n",
    "* Las pautas editoriales\n",
    "* Los marcos técnicos. \n",
    "\n",
    "Todo esto dará forma al alcance de sus elecciones de diseño. \n",
    "\n",
    "Tienes que estar preparadopara y capaz de gestionar esta relación, y las expectativas mutuas, de manera efectiva, siempre abierto con su cliente, manténgalos actualizados regularmente con el progreso y, cuando corresponda, involúcrelos en los momentos clave de decisión a lo largo del proceso.\n",
    "\n",
    "\n",
    "__Formato :__ Desde una perspectiva de diseño este será un aspecto influyente significativo. \n",
    "\n",
    "* ¿Estás creando una estáticao un diseño interactivo? \n",
    "\n",
    "Tal vez es un proyecto multifacético y está buscando crear ambos. \n",
    "\n",
    "Si se trata de un diseño interactivo, \n",
    "* ¿Con qué plataforma necesita lograr compatibilidad? \n",
    "* ¿Será para la Web, una tableta y / o teléfonos inteligentes? \n",
    "\n",
    "Si se trata de un diseño estático, \n",
    "* ¿Será un pequeño gráfico en una publicación, una página completa o una gran pantalla de póster? \n",
    "\n",
    "Tal vez sea una \n",
    "\n",
    "* ¿Animación de video?\n",
    "* ¿Exhibición ambiental en la naturaleza?, o una gran instalación de \n",
    "* ¿Pantalla táctil en un museo?. \n",
    "\n",
    "Esta es una consideración vital que debe aclararse en la etapa más temprana posible. \n",
    "\n",
    "Otro factor a tener en cuenta será la frecuencia probable del proyecto: \n",
    "\n",
    "* ¿Es una pieza única o será algo que deba ser replicable y / o escalable?"
   ]
  },
  {
   "cell_type": "code",
   "execution_count": null,
   "metadata": {},
   "outputs": [],
   "source": []
  },
  {
   "cell_type": "code",
   "execution_count": null,
   "metadata": {},
   "outputs": [],
   "source": []
  }
 ],
 "metadata": {
  "kernelspec": {
   "display_name": "Python 3 (ipykernel)",
   "language": "python",
   "name": "python3"
  },
  "language_info": {
   "codemirror_mode": {
    "name": "ipython",
    "version": 3
   },
   "file_extension": ".py",
   "mimetype": "text/x-python",
   "name": "python",
   "nbconvert_exporter": "python",
   "pygments_lexer": "ipython3",
   "version": "3.13.5"
  }
 },
 "nbformat": 4,
 "nbformat_minor": 4
}
