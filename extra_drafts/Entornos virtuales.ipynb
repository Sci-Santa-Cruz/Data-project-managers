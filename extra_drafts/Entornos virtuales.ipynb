{
 "cells": [
  {
   "cell_type": "code",
   "execution_count": null,
   "metadata": {},
   "outputs": [],
   "source": []
  },
  {
   "cell_type": "markdown",
   "metadata": {},
   "source": [
    "### Entornos Conda\n",
    "\n",
    "Un entorno conda es un directorio que contiene una colección específica de paquetes conda que ha instalado. Por ejemplo, puede tener un entorno con NumPy 1.7 y sus dependencias, y otro entorno con NumPy 1.6 para pruebas heredadas. Si cambia un entorno, sus otros entornos no se verán afectados. Puede activar o desactivar entornos fácilmente, así es como cambia entre ellos. También puede compartir su entorno con alguien dándole una copia de su archivo environment.yaml ."
   ]
  },
  {
   "cell_type": "markdown",
   "metadata": {},
   "source": [
    "### Entornos virtuales\n",
    "\n",
    "Un entorno virtual es una herramienta que ayuda a mantener las dependencias requeridas por diferentes proyectos por separado creando espacios aislados para ellos que contienen dependencias por proyecto para ellos.\n",
    "\n",
    "Los usuarios pueden crear entornos virtuales utilizando una de varias herramientas como Pipenv o Poetry, o un entorno virtual conda. Pipenv y Poetry se basan en la biblioteca venv incorporada de Python, mientras que conda tiene su propia noción de entornos virtuales de nivel inferior (Python es una dependencia proporcionada en entornos conda).\n",
    "\n"
   ]
  },
  {
   "cell_type": "code",
   "execution_count": null,
   "metadata": {},
   "outputs": [],
   "source": []
  },
  {
   "cell_type": "markdown",
   "metadata": {},
   "source": [
    "¿Por qué usar entornos virtuales basados ​​en venv?\n",
    "\n",
    "    Prefieres su flujo de trabajo o formatos de especificaciones.\n",
    "\n",
    "    Prefiere usar el sistema Python y las bibliotecas.\n",
    "\n",
    "    Los encargados del mantenimiento de su proyecto solo publican en PyPI, y usted prefiere los paquetes que provienen más directamente de los encargados del mantenimiento del proyecto, en lugar de que otra persona proporcione compilaciones basadas en el mismo código. \n",
    "\n",
    "¿Por qué usar entornos virtuales conda?\n",
    "\n",
    "    Desea control sobre las opciones de compatibilidad binaria.\n",
    "\n",
    "    Desea utilizar estándares de lenguaje más nuevos, como C ++ 17.\n",
    "\n",
    "    Necesita bibliotecas más allá de lo que ofrece el sistema Python.\n",
    "\n",
    "    Desea administrar paquetes de lenguajes distintos de Python en el mismo espacio. \n",
    "\n",
    "Diferenciadores de flujo de trabajo\n",
    "\n",
    "Algunas preguntas a tener en cuenta al determinar su flujo de trabajo y entorno virtual preferidos:\n",
    "\n",
    "    ¿Se comparte su entorno en múltiples proyectos de código?\n",
    "\n",
    "    ¿Su entorno vive junto a su código o en un lugar separado?\n",
    "\n",
    "    ¿Sus pasos de instalación implican la instalación de bibliotecas externas?\n",
    "\n",
    "    ¿Desea enviar su entorno como un archivo de algún tipo que contenga los archivos reales del entorno? \n",
    "\n",
    "Sistema de paquetes diferenciadores\n",
    "\n",
    "Hay beneficios potenciales para elegir PyPI o conda.\n",
    "\n",
    "PyPI tiene un espacio de nombres global y propiedad distribuida de ese espacio de nombres. Debido a esto, es más fácil dentro de PyPI tener fuentes únicas para un paquete directamente de los mantenedores de paquetes.\n",
    "\n",
    "Conda tiene espacios de nombres ilimitados (canales) y propiedad distribuida de un canal determinado. Como tal, es más fácil asegurar la compatibilidad binaria dentro de un canal usando conda.\n"
   ]
  },
  {
   "cell_type": "markdown",
   "metadata": {},
   "source": [
    "### Crear un entorno "
   ]
  },
  {
   "cell_type": "markdown",
   "metadata": {},
   "source": [
    "conda create --name nombre_entorno"
   ]
  },
  {
   "cell_type": "markdown",
   "metadata": {},
   "source": [
    "#### instalar entorno y paquetes "
   ]
  },
  {
   "cell_type": "markdown",
   "metadata": {},
   "source": [
    "conda create -n pyhton_3.6 python=3.6\n",
    "\n",
    "conda install -n pyhton_3.6 scipy"
   ]
  },
  {
   "cell_type": "markdown",
   "metadata": {},
   "source": [
    "#### instalar en una linea \n",
    "\n",
    "_conda create -n myenv python=3.6 scipy=0.15.0 astroid babel_"
   ]
  },
  {
   "cell_type": "markdown",
   "metadata": {},
   "source": [
    "### Crear un entorno a partir de un archivo environment.yml\n",
    "\n",
    "Use el terminal o un indicador de Anaconda para los siguientes pasos:\n",
    "\n",
    "Cree el entorno desde el archivo environment.yml : "
   ]
  },
  {
   "cell_type": "code",
   "execution_count": 3,
   "metadata": {},
   "outputs": [],
   "source": [
    "# https://docs.conda.io/projects/conda/en/latest/user-guide/tasks/manage-environments.html#create-env-file-manually"
   ]
  },
  {
   "cell_type": "code",
   "execution_count": 4,
   "metadata": {},
   "outputs": [],
   "source": [
    "# pip install -r requirements.txt"
   ]
  },
  {
   "cell_type": "code",
   "execution_count": 5,
   "metadata": {},
   "outputs": [],
   "source": [
    "# conda install --yes --file requirements.txt"
   ]
  },
  {
   "cell_type": "code",
   "execution_count": 6,
   "metadata": {},
   "outputs": [],
   "source": [
    "# conda env create --file env-name.txt"
   ]
  },
  {
   "cell_type": "markdown",
   "metadata": {},
   "source": [
    "### Ver la lista de entornos en el sistema \n",
    "\n",
    "conda env list"
   ]
  },
  {
   "cell_type": "markdown",
   "metadata": {},
   "source": [
    "### Activar y desactivar entorno \n",
    "\n",
    "conda activate python_3.6\n",
    "\n",
    "deactivate"
   ]
  },
  {
   "cell_type": "code",
   "execution_count": null,
   "metadata": {},
   "outputs": [],
   "source": []
  }
 ],
 "metadata": {
  "kernelspec": {
   "display_name": "Python 3",
   "language": "python",
   "name": "python3"
  },
  "language_info": {
   "codemirror_mode": {
    "name": "ipython",
    "version": 3
   },
   "file_extension": ".py",
   "mimetype": "text/x-python",
   "name": "python",
   "nbconvert_exporter": "python",
   "pygments_lexer": "ipython3",
   "version": "3.7.4"
  }
 },
 "nbformat": 4,
 "nbformat_minor": 2
}
