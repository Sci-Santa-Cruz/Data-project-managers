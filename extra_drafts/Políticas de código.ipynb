{
 "cells": [
  {
   "cell_type": "markdown",
   "metadata": {},
   "source": [
    " <img src=\"../images/logo_anzen_.png\" alt=\"Drawing\" style=\"width:1000px;\"/>"
   ]
  },
  {
   "cell_type": "markdown",
   "metadata": {},
   "source": [
    "\n",
    "<div class=\"jumbotron\">\n",
    "   \n",
    "  <h1><i class=\"fa fa-bar-chart\" aria-hidden=\"true\"></i> Políticas de código</h1>\n",
    "  <p></p>\n",
    "</div>\n"
   ]
  },
  {
   "cell_type": "markdown",
   "metadata": {},
   "source": [
    "## Introducción\n",
    "\n",
    "Este documento proporciona convenciones de codificación para el código Python para los proyectos  desarrollados por el departamento de ciencia de datos de __Anzen Digital__.\n",
    "\n",
    "El presente documento esta basado en  el PEP 8 (Guía de estilo para código Python), PEP 257 y algunas adiciones de la guía de estilo de Barry [2].\n",
    "\n",
    "Este documento es una guia interna para estadarizar los códigos en el desarrollo de proyectos. En el caso en el que el cliente especifique sus propias pautas de estilo de codificación se dará prioridad a la satisfacción del cliente. En caso de conflicto, las guías específicas del cliente tienen prioridad para el proyecto."
   ]
  },
  {
   "cell_type": "markdown",
   "metadata": {},
   "source": [
    "## Convención de nomenclatura\n",
    "\n",
    "Una convención de nomenclatura es un conjunto de reglas para elegir la secuencia de caracteres que se usará para los identificadores que denotan variables , tipos , funciones y otras entidades en el código fuente y la documentación .\n",
    "\n",
    "Las razones para usar una convención de nomenclatura (en lugar de permitir que los programadores elijan cualquier secuencia de caracteres) incluyen las siguientes:\n",
    "\n",
    "- Reducir el esfuerzo necesario para leer y comprender el código fuente; [1]\n",
    "- Permitir que las revisiones de código se centren en cuestiones más importantes que discutir sobre la sintaxis y los estándares de denominación.\n",
    "- Permitir que las herramientas de revisión de la calidad del código centren sus informes principalmente en cuestiones importantes distintas de las preferencias de estilo y sintaxis.\n"
   ]
  },
  {
   "cell_type": "markdown",
   "metadata": {},
   "source": [
    "### Nomenclatura Python  \n",
    "\n",
    "- __Nombre de clases__ :  `UpperCamelCase`\n",
    "- __Constantes__ : `CAPITALIZED_WITH_UNDERSCORES`\n",
    "- __Variables__ : `lowercase_separated_by_underscores`\n",
    "- __Funciones y métodos__ : `lowerCamelCase`  (no estandar)\n",
    "- __Private__ :  se le antepone un guión bajo `_`\n"
   ]
  },
  {
   "cell_type": "markdown",
   "metadata": {},
   "source": [
    "## Diseño de código\n",
    "\n",
    "### Sangría\n",
    "\n",
    "\n",
    "Utilice un tabulador por nivel de sangría.\n",
    "\n",
    "Se debe considerar lo siguiente; no debe haber argumentos en la primera línea y se debe usar más sangría para distinguirse claramente como una línea de continuación:\n",
    "\n"
   ]
  },
  {
   "cell_type": "code",
   "execution_count": 9,
   "metadata": {},
   "outputs": [],
   "source": [
    "# Correcto:\n",
    "\n",
    "# Alinear con el delimitador de apertura (\n",
    "def long_function_name(var_one, var_two,var_three, var_four):\n",
    "    \n",
    "    pass\n",
    "\n",
    "    \n",
    "    \n",
    "def long_function_name(var_one,\n",
    "                        var_two,\n",
    "                        var_three,\n",
    "                        var_four\n",
    "                        ):\n",
    "    pass\n",
    "    \n",
    "    \n",
    "\n",
    "# Distinguir los argumentos del resto de la función \n",
    "def long_function_name(var_one, var_two, var_three,\n",
    "                        var_four):\n",
    "    print(var_one)\n",
    "    \n",
    "    \n",
    "    \n",
    "my_list = [\n",
    "            1, 2, 3,\n",
    "            4, 5, 6,\n",
    "            ]\n"
   ]
  },
  {
   "cell_type": "markdown",
   "metadata": {},
   "source": [
    "__Python 3 no permite mezclar el uso de tabuladores y espacios para la sangría__ ."
   ]
  },
  {
   "cell_type": "markdown",
   "metadata": {},
   "source": [
    "## Longitud máxima de la línea\n",
    "\n",
    "Limite todas las líneas a un máximo de 79 caracteres.\n",
    "\n",
    "Para bloques largos de texto fluidos con menos restricciones estructurales (cadenas de documentación o comentarios), la longitud de la línea debe limitarse a 72 caracteres.\n",
    "\n",
    "Limitar el ancho de la ventana del editor requerido hace posible tener varios archivos abiertos uno al lado del otro y funciona bien cuando se utilizan herramientas de revisión de código que presentan las dos versiones en columnas adyacentes.\n",
    "\n",
    "El ajuste predeterminado en la mayoría de las herramientas interrumpe la estructura visual del código, lo que lo hace más difícil de entender. Los límites se eligen para evitar que los editores se envuelvan con el ancho de ventana establecido en 80, incluso si la herramienta coloca un glifo de marcador en la columna final al ajustar las líneas. Es posible que algunas herramientas basadas en web no ofrezcan ningún ajuste de línea dinámico."
   ]
  },
  {
   "cell_type": "markdown",
   "metadata": {},
   "source": [
    "## ¿Debe romperse una línea antes o después de un operador binario?\n",
    "\n",
    "Seguir la tradición de las matemáticas generalmente da como resultado un código más legible:"
   ]
  },
  {
   "cell_type": "code",
   "execution_count": 14,
   "metadata": {},
   "outputs": [],
   "source": [
    "# Correct:\n",
    "# easy to match operators with operands\n",
    "\n",
    "gross_wages = 1\n",
    "taxable_interest = 10\n",
    "dividends = 12\n",
    "qualified_dividends = 15\n",
    "ira_deduction = 30\n",
    "student_loan_interest= 23\n",
    "\n",
    "\n",
    "income = (gross_wages\n",
    "          + taxable_interest\n",
    "          + (dividends - qualified_dividends)\n",
    "          - ira_deduction\n",
    "          - student_loan_interest)"
   ]
  },
  {
   "cell_type": "markdown",
   "metadata": {},
   "source": [
    "## Codificación del archivo de origen\n",
    "\n",
    "El código en la distribución central de Python siempre debe  espeficificarse en el archivo  y se debe usar `UTF-8`, al igual que la ruta de compilador "
   ]
  },
  {
   "cell_type": "code",
   "execution_count": 15,
   "metadata": {},
   "outputs": [],
   "source": [
    "#!/usr/bin/python3.6\n",
    "#-*- coding: utf-8 -*-"
   ]
  },
  {
   "cell_type": "markdown",
   "metadata": {},
   "source": [
    "## Importación de bibliotecas\n",
    "\n",
    "Las importaciones generalmente deben estar en líneas separadas:\n"
   ]
  },
  {
   "cell_type": "code",
   "execution_count": null,
   "metadata": {},
   "outputs": [],
   "source": [
    "# Correct:\n",
    "import os\n",
    "import sys"
   ]
  },
  {
   "cell_type": "code",
   "execution_count": 16,
   "metadata": {},
   "outputs": [],
   "source": [
    "# Wrong:\n",
    "import sys, os"
   ]
  },
  {
   "cell_type": "markdown",
   "metadata": {},
   "source": [
    "sin embargo, para importar modulos de las misma biblioteca debe ser de la siguiente forma:"
   ]
  },
  {
   "cell_type": "code",
   "execution_count": 17,
   "metadata": {},
   "outputs": [],
   "source": [
    "# Correct:\n",
    "from subprocess import Popen, PIPE"
   ]
  },
  {
   "cell_type": "markdown",
   "metadata": {},
   "source": [
    "Las importaciones siempre se colocan en la parte superior del archivo, justo después de los comentarios y cadenas de documentación del módulo, y antes de las constantes y globales del módulo.\n",
    "\n",
    "Las importaciones deben agruparse en el siguiente orden:\n",
    "\n",
    "- Importaciones de bibliotecas estándar.\n",
    "- Importaciones de terceros relacionadas.\n",
    "- Importaciones específicas de aplicaciones / bibliotecas locales.\n",
    "- Debe poner una línea en blanco entre cada grupo de importaciones."
   ]
  },
  {
   "cell_type": "markdown",
   "metadata": {},
   "source": [
    "Al importar una clase de un módulo que contiene una clase, generalmente está bien escribir esto:"
   ]
  },
  {
   "cell_type": "code",
   "execution_count": 4,
   "metadata": {},
   "outputs": [],
   "source": [
    "from pandas import DataFrame  \n",
    "from numpy.distutils.core import Extension"
   ]
  },
  {
   "cell_type": "code",
   "execution_count": null,
   "metadata": {},
   "outputs": [],
   "source": [
    "Si esta ortografía provoca conflictos de nombres locales, escríbalos con un alias:"
   ]
  },
  {
   "cell_type": "code",
   "execution_count": 3,
   "metadata": {},
   "outputs": [],
   "source": [
    "from numpy import sum as sum_\n",
    "from numpy import arange as range_"
   ]
  },
  {
   "cell_type": "markdown",
   "metadata": {},
   "source": [
    "<div class=\"alert alert-danger\" role=\"alert\"> <i class=\"fa fa-lightbulb-o\" aria-hidden=\"true\"><strong> Comodines: </strong> </i> El uso de comodines es una mala practica debido a que puede sobreescribir las funciones estandar de pyhton y conducir a errores posteriores por no estra explicitamente expuesto </div>"
   ]
  },
  {
   "cell_type": "markdown",
   "metadata": {},
   "source": [
    "Deben evitarse las importaciones de comodines  (`from  <module> import *` ), ya que dejan poco claro qué nombres están presentes en el espacio de nombres, lo que confunde tanto a los lectores como a muchas herramientas automatizadas. \n",
    "\n",
    "Existe un caso de uso defendible para una importación de comodines, que es volver a publicar una interfaz interna como parte de una API pública (por ejemplo, sobrescribir una implementación de Python pura de una interfaz con las definiciones de un módulo acelerador opcional y exactamente qué definiciones serán sobrescrito no se conoce de antemano)."
   ]
  },
  {
   "cell_type": "markdown",
   "metadata": {},
   "source": [
    "Por ejemplo :"
   ]
  },
  {
   "cell_type": "markdown",
   "metadata": {},
   "source": [
    "<i class=\"fa fa-clock-o\" aria-hidden=\"true\"></i> Recordando:"
   ]
  },
  {
   "cell_type": "code",
   "execution_count": 6,
   "metadata": {},
   "outputs": [
    {
     "name": "stdout",
     "output_type": "stream",
     "text": [
      "<built-in function sum>  from  builtins\n"
     ]
    }
   ],
   "source": [
    "print(sum, ' from ', sum.__module__)    # here you see the standard `sum` function"
   ]
  },
  {
   "cell_type": "code",
   "execution_count": 7,
   "metadata": {},
   "outputs": [
    {
     "name": "stdout",
     "output_type": "stream",
     "text": [
      "<function sum at 0x00000120AA0A5510>  from  numpy\n"
     ]
    }
   ],
   "source": [
    "from numpy import *                     # from here it is shadowed\n",
    "print(sum, ' from ', sum.__module__)"
   ]
  },
  {
   "cell_type": "code",
   "execution_count": 8,
   "metadata": {},
   "outputs": [
    {
     "name": "stdout",
     "output_type": "stream",
     "text": [
      "<built-in function sum>  from  builtins\n"
     ]
    }
   ],
   "source": [
    "del sum                                 # here you restore things back\n",
    "print(sum, ' from ', sum.__module__)"
   ]
  },
  {
   "cell_type": "markdown",
   "metadata": {},
   "source": [
    "Realmente `from numpy import *` no sobrescribe la `builtins sum function` , solo sombrea `__builtins__.sum` , porque la instrucción  `from ... import *`  une todos los nombres definidos en el módulo importado a su espacio global actual, excepto los que comienzan con un guión bajo. \n",
    "\n",
    "\n",
    "Y de acuerdo con la regla de resolución de nombres de Python (regla no oficial LEGB ), el `global namespace` se busca antes que el `__builtins__ namespace` . Entonces, si Python encuentra el nombre deseado, en su caso `sum`, le devuelve el objeto enlazado y no busca más."
   ]
  },
  {
   "cell_type": "markdown",
   "metadata": {},
   "source": [
    "<div class=\"alert alert-info\" role=\"alert\"> <i class=\"fa fa-lightbulb-o\" aria-hidden=\"true\"><strong> Nota: </strong> </i> <code>del</code> no elimina objetos, es una tarea del recolector de basura, solo \"desreferencia\" los enlaces de nombres y elimina nombres del espacio de nombres actual. </div>"
   ]
  },
  {
   "cell_type": "markdown",
   "metadata": {},
   "source": [
    "## Métodos Dunder o magic\n",
    "\n",
    "Las variables mágivas (es decir, `__variable__`) deben colocarse después del `docstring` pero antes de cualquier declaración de importación excepto de las importaciones de `__futuro__` . Python exige que las importaciones futuras deben aparecer en el módulo antes que cualquier otro código, excepto las `docstring`:"
   ]
  },
  {
   "cell_type": "code",
   "execution_count": 11,
   "metadata": {},
   "outputs": [],
   "source": [
    "\"\"\" \n",
    "    This is the example module.\n",
    "    This module does stuff.\n",
    "\"\"\"\n",
    "\n",
    "from __future__ import barry_as_FLUFL\n",
    "\n",
    "__all__ = ['a', 'b', 'c']\n",
    "__version__ = '0.1'\n",
    "__author__ = 'Cardinal Biggles'\n",
    "\n",
    "import os\n",
    "import sys"
   ]
  },
  {
   "cell_type": "markdown",
   "metadata": {},
   "source": [
    "## String Quotes\n",
    "\n",
    "Las comillas simples, dobles y triples deben ser  coherente con la una convención, en nuestro caso\n",
    "\n",
    "\n",
    "- docstring = `\"\"\" información ...\"\"\"`\n",
    "- documentos = `\"\"\"texto ...\"\"\"`\n",
    "- string cortos= `'RFC'`\n",
    "- querys = `'SELECT * '` \n",
    "- Strig aninados  =  Quote externo `''`, quote interno `\"\"`\n"
   ]
  },
  {
   "cell_type": "code",
   "execution_count": null,
   "metadata": {},
   "outputs": [],
   "source": []
  },
  {
   "cell_type": "code",
   "execution_count": 17,
   "metadata": {},
   "outputs": [
    {
     "name": "stdout",
     "output_type": "stream",
     "text": [
      "MERGE (m:Engrose{id_engrose:123})\n",
      "MERGE (b:Tesis{registro_digital:908577})\n",
      "MERGE ( (m)-[p:Referencia]->(b)) ON CREATE SET p.clave_tesis=\"8279347928347\"\n"
     ]
    }
   ],
   "source": [
    "# Query for Neo4J\n",
    "multiline_str = ''.join(('MERGE (m:Engrose{id_engrose:',\n",
    "                        str(123),\n",
    "                        '})\\nMERGE (b:Tesis{registro_digital:',\n",
    "                        str(908577) ,\n",
    "                        '})\\nMERGE ( (m)-[p:Referencia]->(b)) ON CREATE SET p.clave_tesis=\"',\n",
    "                        str(8279347928347) ,\n",
    "                        '\"'\n",
    "                       ))\n",
    "\n",
    "print(multiline_str)"
   ]
  },
  {
   "cell_type": "markdown",
   "metadata": {},
   "source": [
    "## Espacios en blanco \n",
    "\n",
    "Evite espacios en blanco extraños en las siguientes situaciones:\n",
    "\n",
    "- Inmediatamente entre paréntesis, corchetes o llaves:"
   ]
  },
  {
   "cell_type": "code",
   "execution_count": 28,
   "metadata": {},
   "outputs": [],
   "source": [
    "# Correct:\n",
    "spam = ({'ham':[1]}, {'eggs': 2})\n"
   ]
  },
  {
   "cell_type": "code",
   "execution_count": 29,
   "metadata": {},
   "outputs": [],
   "source": [
    "# Wrong:\n",
    "spam = ( {'ham':[ 1 ]}, { 'eggs': 2 } )\n"
   ]
  },
  {
   "cell_type": "markdown",
   "metadata": {},
   "source": [
    "- Entre una coma al final y un paréntesis cerrado siguiente:"
   ]
  },
  {
   "cell_type": "code",
   "execution_count": 30,
   "metadata": {},
   "outputs": [],
   "source": [
    "# Correct:\n",
    "foo = (0,)"
   ]
  },
  {
   "cell_type": "code",
   "execution_count": 31,
   "metadata": {},
   "outputs": [],
   "source": [
    "# Wrong:\n",
    "bar = (0, )"
   ]
  },
  {
   "cell_type": "code",
   "execution_count": 36,
   "metadata": {},
   "outputs": [],
   "source": [
    "# Wrong:\n",
    "dct = dict ()\n",
    "dct ['key'] = list ([])\n"
   ]
  },
  {
   "cell_type": "code",
   "execution_count": 37,
   "metadata": {},
   "outputs": [],
   "source": [
    "# Wrong:\n",
    "x             = 1\n",
    "y             = 2\n",
    "long_variable = 3"
   ]
  },
  {
   "cell_type": "markdown",
   "metadata": {},
   "source": [
    "## Dependencias \n",
    "\n",
    "Las dependecias de clase o de funciones de colocan despues de la codificación del Notebook:"
   ]
  },
  {
   "cell_type": "code",
   "execution_count": 38,
   "metadata": {},
   "outputs": [],
   "source": [
    "#!/usr/bin/python3.6\n",
    "#!/usr/local/bin/python3.6\n",
    "\n",
    "# -*- coding: utf-8 -*-\n",
    "\n",
    "# This EAGI use the File Descriptor to get the audio in realtime and perform one simple VAD analise in the signal ... \n",
    "\n",
    "# Dependecias:\n",
    "\n",
    "# flac >= 1.2.1\n",
    "# libflac-dev >= 1.2.1\n",
    "# libsndfile >= 1.0.21\n",
    "# libsndfile-dev >= 1.0.21\n",
    "# audiolab >= 0.11.0\n",
    "\n",
    "# Install Debian dists:\n",
    "# apt-get install libflac-dev\n",
    "# apt-get install flac\n",
    "# apt-get install python-numpy\n",
    "# apt-get install python-scipy\n",
    "# apt-get install python-dev python-setuptools libsndfile-dev\n",
    "\n",
    "import warnings"
   ]
  },
  {
   "cell_type": "markdown",
   "metadata": {},
   "source": [
    "## Docstring \n",
    "\n",
    "\n",
    "Un docstring es un literal de cadena que aparece como la primera declaración en una definición de módulo, función, clase o método. Dicha cadena de documentos se convierte en el atributo especial `__doc__` de ese objeto."
   ]
  },
  {
   "cell_type": "code",
   "execution_count": 1,
   "metadata": {},
   "outputs": [],
   "source": [
    "def send_mail (user_exten, type):\n",
    "\n",
    "    \"\"\"\n",
    "    send_mail(...) : enviar un e-mail a la persona cuya extensión es 'user_exten'\n",
    "\n",
    "\n",
    "    Descripción :  Si type = 'voicemail' se envia un e-mail al colaborador asociado a la extesión 'user_exten'. El e-mail\n",
    "                    contiene un archivo adjunto , el cual es el archivo de audio  que  genera Asterisk al grabar el correo de\n",
    "                    voz mediante la central.  El archivo   de audio es nombrado como : msg0000.wav, por Asterisk, despues de adjutar\n",
    "                    el archivo , este se elimina del  folder  donde se almacena los mensajes de voz asociados al usuario de la extesión \n",
    "                    'user_exten'. La ruta donde se almacenan los archivos de audio es /var/spool/asterisk/voicemail/default/. dentro de esta\n",
    "                    ruta se crea un subfolder , asociado a el número de extesión del cada usuario dado de alta en la central.  es necesario que\n",
    "                    el administrador de la central habilite el opción que permite recibir a cada usuario la recepción de mesaje de voz, a travez de\n",
    "                    buzón de voz de la central. \n",
    "\n",
    "\n",
    "                    El e-mail contien los detalles del correo de voz, esta información se extrae del archivo  msg0000.txt el cual general la central \n",
    "                    al recibir el buzon de voz. Dicho archivo tambien es eleminado despues del enviar el e-mail. El eliminar los archivos msg0000.wav y \n",
    "                    msg0000.txt no se le permiete a Asterisk incrementar  el contador asiciado al números de mensajes de voz asociados a un usuario, por tal \n",
    "                    el contador siempre estará es '000'.\n",
    "                \n",
    "                    Si type = 'key_error', se envía un correo al administrador del sistema para notificar que exiten fallas de conexión asociadas con \n",
    "                    la valides de las credenciales. \n",
    "\n",
    "                    El e-mail para ambos casos tiene como remitente a Ángela \n",
    "                \n",
    "\n",
    "\n",
    "\n",
    "\n",
    "    Causa:  Para type = 'voicemail' permite omitir el uso de el administrador me los mensajes de voz que implementa  Asterisk por default.\n",
    "            Para type = 'key_error' permite enviar notificaciones inmediantamente, si se caducan las claves.\n",
    "\n",
    "    Uso:   Lo usa el método ***** dentro  de su código interno \n",
    "\n",
    "    Parámetros de entrada:\n",
    "                            user_exten: número de extesión asociado a un colaborador\n",
    "                            type: 'voicemail' | 'key_error' , especifica  que tipo de e-mail debe de enviarse\n",
    "                            \n",
    "\n",
    "    Parámetros de salida : NA \n",
    "    \"\"\"\n",
    "    pass"
   ]
  },
  {
   "cell_type": "markdown",
   "metadata": {},
   "source": [
    "## Enviroment \n",
    "\n",
    "Virtualenv es una herramienta diseñada para poder desarrollar proyectos en Python trabajando con diferentes versiones de paquetes que, de otra forma, entrarían en conflicto. Por ejemplo, si un programador quiere desarrollar dos proyectos con diferentes versiones de Django, no es posible tener las dos versiones instaladas en el directorio de bibliotecas de Python del sistema, a no ser que se utilice una herramienta como virtualenv. Con virtualenv, este programador crearía dos entornos aislados, e instalaría cada versión de Django en uno de los entornos.\n",
    "\n",
    "virtualenvwrapper, por su parte, proporciona varios comandos para hacer más cómodo el uso de virtualenv desde la consola.\n",
    "\n",
    "Aparte de estas dos herramientas, a partir de la versión 3.3 de Python, la biblioteca estándar incluye venv como un módulo integrado. venv implementa una API similar a la de virtualenv.\n",
    "\n"
   ]
  },
  {
   "cell_type": "code",
   "execution_count": 40,
   "metadata": {},
   "outputs": [
    {
     "name": "stdout",
     "output_type": "stream",
     "text": [
      "^C\n"
     ]
    }
   ],
   "source": [
    "!conda create -n AWS_cloud python=3.6"
   ]
  },
  {
   "cell_type": "markdown",
   "metadata": {},
   "source": [
    "Cada POC o proyecto debe tener una envoroment"
   ]
  },
  {
   "cell_type": "code",
   "execution_count": null,
   "metadata": {},
   "outputs": [],
   "source": []
  }
 ],
 "metadata": {
  "kernelspec": {
   "display_name": "Python 3 (ipykernel)",
   "language": "python",
   "name": "python3"
  },
  "language_info": {
   "codemirror_mode": {
    "name": "ipython",
    "version": 3
   },
   "file_extension": ".py",
   "mimetype": "text/x-python",
   "name": "python",
   "nbconvert_exporter": "python",
   "pygments_lexer": "ipython3",
   "version": "3.10.13"
  }
 },
 "nbformat": 4,
 "nbformat_minor": 4
}
