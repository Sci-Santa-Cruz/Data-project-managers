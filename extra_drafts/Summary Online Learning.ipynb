{
 "cells": [
  {
   "cell_type": "markdown",
   "metadata": {},
   "source": [
    "<div class=\"jumbotron\">\n",
    "  <h1><i class=\"fa fa-bar-chart\" aria-hidden=\"true\"></i>OnLine  Machine Learning  </h1>\n",
    "  <p></p>\n",
    "</div>"
   ]
  },
  {
   "cell_type": "markdown",
   "metadata": {},
   "source": [
    "### Aprendizaje Bacth "
   ]
  },
  {
   "cell_type": "markdown",
   "metadata": {},
   "source": [
    "- El algortimos tiene que ver todos los datos\n",
    "- El modelo nunca está completamente actualizado con los eventos actuales\n",
    "- El modelo se tiene que re entrerar desde cero para agregar nuevos casos\n",
    "\n",
    "El reentrenado es manual y costoso compuacionalmente si lidiamos con grandes conjutos, además es necesarios un humano experto a cargo."
   ]
  },
  {
   "cell_type": "markdown",
   "metadata": {},
   "source": [
    "### Aprendizaje Online"
   ]
  },
  {
   "cell_type": "markdown",
   "metadata": {},
   "source": [
    "Reducir sus costos operativos, tanto en términos de potencia informática como de intervención humana. \n",
    "No necesita un hardware potente para procesar datos, porque solo un elemento de la transmisión vive en la memoria a la vez.\n",
    "\n",
    "- Grandes volumenes de información \n",
    "- El reentrenado no es desde cero\n",
    "- Entornos donde los comportamientos cambian rápidamente\n",
    "- Datos como un flujo continuo"
   ]
  },
  {
   "cell_type": "markdown",
   "metadata": {},
   "source": [
    "Sus pricipales aplicaciones son :\n",
    "\n",
    "- Filtrado de spam\n",
    "- Sistemas de recomendación \n",
    "- Sensores de IoT, \n",
    "- Transacciones financieras\n",
    "   "
   ]
  },
  {
   "cell_type": "markdown",
   "metadata": {},
   "source": [
    "\n",
    "#### Ventajas\n",
    "\n",
    "- Los modelos en línea pueden aprender con una instancia a la vez.\n",
    "\n",
    "- Los modelos en línea no tienen que volver a entrenarse, ya que aprenden sobre la marcha.\n",
    "\n",
    "- El aprendizaje automático en línea simplifica la implementación y el mantenimiento del modelo.\n",
    "\n",
    "- Utiles en temas de privacidad, donde datos exige que las instancias se descarten inmediatamente después de ser vistas.\n",
    "\n",
    "- Computacionalmente mucho más rápido y más eficiente en el espacio\n",
    "\n",
    "- Generalmente más fácil de implementar.(no lo sé rick)"
   ]
  },
  {
   "cell_type": "markdown",
   "metadata": {},
   "source": [
    "#### Desventajas\n",
    "\n",
    "- El aprendizaje en línea es propenso a interferencias catastróficas , más que la mayoría de las otras técnicas .\n",
    "- Sensibles al desvalanceo de clases\n",
    "- Propensosn a ingreso de datos incorrectos al sistema \n",
    "- Más difícil de mantener en producción (depende de la cantidad de datos que  se ingenten al modelos en un lapso corto de tiempo)\n",
    "- Más difícil de evaluar en línea\n",
    "- Tenga en cuenta que no todos los algoritmos tienen un equivalente en línea\n",
    "- Monitorear cosntante del sistema y \n",
    "- Es necesario un botón de pánico para desactivar rápidamente el aprendizaje  y posiblemente volver a un estado de funcionamiento anterior si detecta una caída en el rendimiento y  monitorear los datos de entrada \n"
   ]
  },
  {
   "cell_type": "markdown",
   "metadata": {},
   "source": [
    "#### Casos de exito \n",
    "- predicción de la tasa de clics de anuncios (Google AI) [ https://research.google/pubs/pub41159/ ]\n",
    "- recomendaciones de noticias (Microsoft Research Lab – AI )[ https://www.microsoft.com/en-us/research/blog/real-world-interactive-learning-cusp-enabling-new-class-applications/ ]"
   ]
  },
  {
   "cell_type": "markdown",
   "metadata": {},
   "source": [
    "#### Discusión \n",
    "\n",
    "¿por qué no todos estamos usando el aprendizaje automático en línea?\n",
    "\n",
    "- Las competiciones\n",
    "- Cursos universitarios \n",
    "- MOOC\n",
    "- Bibliotecas tradicionales\n",
    "\n",
    "\n",
    "- No hay muchas herramientas disponibles para hacerlo.\n",
    "\n",
    "\n",
    "- ¿ Como se alimentan los modelos en producción ?\n",
    "     Puede ser manual por un usuario no experto como los capchats \n",
    "     o de forma más técnica.\n",
    " \n"
   ]
  },
  {
   "cell_type": "markdown",
   "metadata": {},
   "source": [
    "#### Apredizaje incremental "
   ]
  },
  {
   "cell_type": "markdown",
   "metadata": {},
   "source": [
    "Existe una discución sobre la diferencias entre online learning, incremental learning como parte de la rama de adatative learning\n",
    " \n",
    " \n",
    "- ¿Qué tan rápido necesita el punto de datos más reciente para formar parte de su modelo? \n",
    "- ¿El siguiente punto necesita modificar el modelo de inmediato, o es este un caso en el que el modelo debe comportarse condicionalmente en función de ese punto? \n",
    " \n",
    " \n",
    " Un punto clave sobre los algoritmos  es la relevancia de los datos antiguos ingestados el el modelo\n",
    " \n",
    "Obsolescencia de datos:  \n",
    "- ¿En cuánto tiempo los datos se vuelvan irrelevantes para el modelo?\n",
    "- ¿Es la relevancia de alguna manera compleja? \n",
    "- ¿Las instancias anteriores son más relevantes que las instancias nuevas?\n",
    "- ¿Las varibale dependen del estado actual de los datos?\n",
    "\n",
    "\n"
   ]
  },
  {
   "cell_type": "markdown",
   "metadata": {},
   "source": [
    "#### Soluciones con deep lerning \n",
    "\n",
    "- Agentes con aprendizaje reforzado\n",
    "- Ingenieria de caracteristicas + algoritmos incremental\n",
    "- Algoritmo incremental  (modelos más simples)\n",
    "\n"
   ]
  },
  {
   "cell_type": "markdown",
   "metadata": {},
   "source": [
    "Deep Neural Networks \n",
    "\n",
    " \"\"\"\n",
    "__Tasa de aprendizaje__ . Si establece una alta tasa de aprendizaje , su sistema se adaptará rápidamente a los nuevos datos, pero también tenderá a olvidar rápidamente los datos antiguos (no desea que un filtro de spam marque solo los últimos tipos de spam que se mostraron) . Por el contrario, si establece una baja tasa de aprendizaje , el sistema tendrá más inercia; es decir, aprenderá más lentamente, pero también será menos sensible al ruido en los datos nuevos o a secuencias de puntos de datos no representativos (valores atípicos).\n",
    "\n",
    "\n",
    "\n",
    "\n",
    "\n",
    "Los diferentes algoritmos de optimización, como el descenso de gradiente, son procesos capaces de trabajar en cualquier volumen de datos. Trabajan para derivar un gradiente para la optimización (una dirección en el proceso de optimización) y hacen que el algoritmo de aprendizaje adapte sus parámetros para seguir el gradiente.\n",
    "\n",
    "En resumen, estamos hablando de un proceso de optimización. Los diferentes algoritmos de optimización, como el descenso de gradiente, son procesos capaces de trabajar en cualquier volumen de datos. Trabajan para derivar un gradiente para la optimización (una dirección en el proceso de optimización) y hacen que el algoritmo de aprendizaje adapte sus parámetros para seguir el gradiente. En el caso específico del descenso de gradiente, después de un cierto número de iteraciones, si el problema se puede resolver y no hay otros problemas, como una tasa de aprendizaje demasiado alta, el gradiente debería ser tan pequeño que podamos detener el proceso de optimización.\n",
    "\n",
    "Al final del proceso, podemos estar seguros de haber encontrado una solución óptima (porque es un óptimo global, aunque a veces puede ser un mínimo local, si la función aproximada no es convexa). Como la direccionalidad, dictada por el gradiente, se puede tomar en función de cualquier volumen de ejemplos, también se puede tomar en una sola instancia. Tomar el gradiente en una sola instancia requiere un pequeña tasa de aprendizaje, pero al final, el proceso puede llegar a la misma optimización que un descenso de gradiente en los datos completos. \n",
    "\n",
    "Al final, todo lo que nuestro algoritmo necesita es una dirección para orientar correctamente el proceso de aprendizaje al ajustar los datos disponibles. Por lo tanto, aprender tal dirección de un solo caso tomado aleatoriamente de los datos es perfectamente factible\n",
    "\n",
    "\"\"\"\n"
   ]
  },
  {
   "cell_type": "markdown",
   "metadata": {},
   "source": [
    "#### Bibliotecas"
   ]
  },
  {
   "cell_type": "markdown",
   "metadata": {},
   "source": [
    "Tenga en cuenta que no todos los algoritmos tienen un equivalente en línea. Por ejemplo, los SVM de kernel son imposibles de encajar en un conjunto de datos de transmisión. Del mismo modo, los árboles de decisión CART e ID3 no se pueden capacitar en línea. \n",
    "\n",
    "Sin embargo, existen aproximaciones en línea menos conocidas, como características aleatorias de Fourier para SVM y árboles Hoeffding para árboles de decisión. Creme tiene muchas cosas que ofrecer, y le recomendamos que consulte su página de GitHub y la documentación en línea .\n",
    "\n",
    "\n",
    "- Scikit-learn\n",
    "\n",
    "Existen varias opciones dentro de scikit-learn. Aunque todos los algoritmos no pueden aprender de forma incremental (es decir, sin ver todas las instancias a la vez), todos los estimadores que implementan la API partial_fit son candidatos. En realidad, la capacidad de aprender de forma incremental a partir de un mini lote de instancias (a veces llamado \"aprendizaje en línea\") es clave para el aprendizaje fuera del núcleo, ya que garantiza que en un momento dado solo habrá una pequeña cantidad de instancias en el memoria principal. Elegir un buen tamaño para el mini-lote que equilibra la relevancia y la huella de la memoria podría implicar algunos ajustes [1] .\n",
    "\n",
    "https://scikit-learn.org/0.15/modules/scaling_strategies.html#incremental-learning\n",
    "\n",
    "\n",
    "\n",
    "- Vowpal Wabbit\n",
    "   - Algoritmos de aprendizaje por refuerzo\n",
    "\n",
    "- Creme\n",
    "    - Decision tree\n",
    "    - Random Forest\n",
    "    - K-Nearest Neighbors\n",
    "    - Naive Bayes algorithms\n",
    "    - Linear models\n",
    "    - Ensemble learning"
   ]
  },
  {
   "cell_type": "code",
   "execution_count": null,
   "metadata": {},
   "outputs": [],
   "source": []
  }
 ],
 "metadata": {
  "kernelspec": {
   "display_name": "Python 3",
   "language": "python",
   "name": "python3"
  },
  "language_info": {
   "codemirror_mode": {
    "name": "ipython",
    "version": 3
   },
   "file_extension": ".py",
   "mimetype": "text/x-python",
   "name": "python",
   "nbconvert_exporter": "python",
   "pygments_lexer": "ipython3",
   "version": "3.7.0"
  }
 },
 "nbformat": 4,
 "nbformat_minor": 2
}
