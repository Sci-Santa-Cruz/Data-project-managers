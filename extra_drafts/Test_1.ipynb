{
 "cells": [
  {
   "cell_type": "markdown",
   "metadata": {},
   "source": [
    "### Descripción del conjunto de datos\n",
    "\n",
    "Se proporcionaron 66,592 muestras obtenidas de sensores de refrigeradores. Cada\n",
    "nuestra contiene 7 variables, las cuales se describen a continuación:\n",
    "- Cliente: Valor entero que identifica al refrigerador .\n",
    "- (Latitud, Longitud): Valores reales que describen la ubicación de la tienda\n",
    "en la cual se encuentra el refrigerador.\n",
    "- Periodo: Fecha (dd/MM/aaaa hh:mm): Esta variable representa la hora y\n",
    "fecha en que se capturó el valor que contienen las variables.\n",
    "- Temperatura (Grados Celsius): Variable que almacena el valor de la temperatura para una hora determinada.\n",
    "- Apertura: Valor entero que contiene el número de veces que la puerta del\n",
    "refrigerador se abrió en el periodo de una hora.\n",
    "- Tráfico: Valor entero que almacena el número de veces que un objeto paso\n",
    "frente al refrigerador."
   ]
  },
  {
   "cell_type": "markdown",
   "metadata": {},
   "source": [
    "__Objetivo__: Documentar las pruebas del análisis exploratorios y de detección de\n",
    "anomaláas realizadas al conjunto de datos de Sigma.\n",
    "El análisis exploratorio tiene como meta resaltar información útil que pueda ser\n",
    "de ayuda para toma de decisiones y obtención de conclusiones a ciertas interrogantes.\n",
    "Las pruebas se dividen en dos partes: el análisis de los datos enfocado en las variables\n",
    "temperatura y periodo del conjunto de datos.\n",
    "\n",
    "La segunda parte de los experimentos\n",
    "analiza los valores de los sensores de apertura de puertas y tráfico de personas frente\n",
    "han recolectado en las tiendas en las que operan. Los experimentos estan enfocados\n",
    "en tratar de dar respuesta a las siguientes interrogantes.\n",
    "\n",
    "\n",
    "1. Anomalías en las temperaturas de los refrigeradores\n",
    "    - Cuántos días de datos tenemos en promedio por cada cliente?\n",
    "    - Existe diferencia entre las temperaturas promedio de los refrigeradores?\n",
    "    - Hay anomalías evidentes en las temperaturas?\n",
    "2. Evaluar la relación entre las variables tráfico y apertura\n",
    "    - Obtener la tasa de conversión por día de la semana (apertura de puerta/trafico)\n",
    "    - Apertura por día de la semana"
   ]
  },
  {
   "cell_type": "code",
   "execution_count": 2,
   "metadata": {},
   "outputs": [],
   "source": [
    "import folium"
   ]
  },
  {
   "cell_type": "markdown",
   "metadata": {},
   "source": [
    "### Análisis exploratorio de las variables temperatura y periodo\n",
    "\n",
    "filtro: descarta primer día del operación del refrigerador; se aplica debido a que en el primer d´ıa de funcionamiento del refrigerador la temperatura debe estabilizarse dentro del rango especificado por el fabricante.\n",
    "\n",
    "- Periodo : datos ausentes , periodo del sensor\n",
    "- temperatura: datos faltantes, rango de temperatura\n",
    "\n",
    "\n",
    "\n"
   ]
  },
  {
   "cell_type": "markdown",
   "metadata": {},
   "source": [
    "## Análisis exploratorio de las variables tráfico y apertura\n",
    "\n",
    "\n",
    "- datos faltantes\n",
    "- indice de aperture"
   ]
  },
  {
   "cell_type": "code",
   "execution_count": 6,
   "metadata": {},
   "outputs": [],
   "source": [
    "# import libraries\n",
    "import folium\n",
    "import pandas as pd\n",
    " \n",
    "# Make a data frame with dots to show on the map\n",
    "data = pd.DataFrame({\n",
    "'lat':[-58, 2, 145, 30.32, -4.03, -73.57, 36.82, -38.5],\n",
    "'lon':[-34, 49, -38, 59.93, 5.33, 45.52, -1.29, -12.97],\n",
    "'name':['Buenos Aires', 'Paris', 'melbourne', 'St Petersbourg', 'Abidjan', 'Montreal', 'Nairobi', 'Salvador']\n",
    "})\n",
    "data\n",
    " \n",
    "# Make an empty map\n",
    "m = folium.Map(location=[20, 0], tiles=\"Mapbox Bright\", zoom_start=2)\n",
    " \n",
    "# I can add marker one by one on the map\n",
    "for i in range(0,len(data)):\n",
    "    folium.Marker([data.iloc[i]['lon'], data.iloc[i]['lat']], popup=data.iloc[i]['name']).add_to(m)\n",
    " \n",
    "# Save it as html\n",
    "m.save('312_markers_on_folium_map1.html')"
   ]
  },
  {
   "cell_type": "code",
   "execution_count": 7,
   "metadata": {},
   "outputs": [
    {
     "data": {
      "text/html": [
       "<div style=\"width:100%;\"><div style=\"position:relative;width:100%;height:0;padding-bottom:60%;\"><iframe src=\"data:text/html;charset=utf-8;base64,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\" style=\"position:absolute;width:100%;height:100%;left:0;top:0;border:none !important;\" allowfullscreen webkitallowfullscreen mozallowfullscreen></iframe></div></div>"
      ],
      "text/plain": [
       "<folium.folium.Map at 0x1ad2aeb7208>"
      ]
     },
     "execution_count": 7,
     "metadata": {},
     "output_type": "execute_result"
    }
   ],
   "source": [
    "m"
   ]
  },
  {
   "cell_type": "code",
   "execution_count": null,
   "metadata": {},
   "outputs": [],
   "source": []
  }
 ],
 "metadata": {
  "kernelspec": {
   "display_name": "Python 3",
   "language": "python",
   "name": "python3"
  },
  "language_info": {
   "codemirror_mode": {
    "name": "ipython",
    "version": 3
   },
   "file_extension": ".py",
   "mimetype": "text/x-python",
   "name": "python",
   "nbconvert_exporter": "python",
   "pygments_lexer": "ipython3",
   "version": "3.7.4"
  }
 },
 "nbformat": 4,
 "nbformat_minor": 2
}
