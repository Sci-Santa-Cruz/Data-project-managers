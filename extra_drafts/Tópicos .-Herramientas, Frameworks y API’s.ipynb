{
 "cells": [
  {
   "cell_type": "code",
   "execution_count": null,
   "metadata": {},
   "outputs": [],
   "source": []
  },
  {
   "cell_type": "code",
   "execution_count": null,
   "metadata": {},
   "outputs": [],
   "source": []
  },
  {
   "cell_type": "code",
   "execution_count": 1,
   "metadata": {},
   "outputs": [
    {
     "ename": "SyntaxError",
     "evalue": "invalid character in identifier (<ipython-input-1-a79b304d51ec>, line 1)",
     "output_type": "error",
     "traceback": [
      "\u001b[1;36m  File \u001b[1;32m\"<ipython-input-1-a79b304d51ec>\"\u001b[1;36m, line \u001b[1;32m1\u001b[0m\n\u001b[1;33m    • WEKA, KNIME, RapidMiner, Orange\u001b[0m\n\u001b[1;37m    ^\u001b[0m\n\u001b[1;31mSyntaxError\u001b[0m\u001b[1;31m:\u001b[0m invalid character in identifier\n"
     ]
    }
   ],
   "source": [
    "• WEKA, KNIME, RapidMiner, Orange\n",
    "• Ggobi\n",
    "• Spark, Databricks, mlflow\n",
    "• CUDA, CPU, GPU y NPU\n",
    "• OpenCV y OpenMP\n",
    "• Cloud computing \n",
    "o SaaS, PaaS, IaaS,DaaS\n",
    "o Google colab\n",
    "• Data mining y Data science\n",
    "• Big data y data analytics\n",
    "• Auto ML \n",
    "• TKL\n",
    "o Elasticsearch\n",
    "o Kibana\n",
    "o Logstash\n",
    "• Neural structured learning\n",
    "• Capnets\n",
    "• Tableu y Power BI\n",
    "• Neo4j , graphql y mongoDB\n",
    "• scikit-multilearn\n",
    "• Python,MATLAB,R, Julia"
   ]
  },
  {
   "cell_type": "code",
   "execution_count": null,
   "metadata": {},
   "outputs": [],
   "source": []
  }
 ],
 "metadata": {
  "kernelspec": {
   "display_name": "Python 3",
   "language": "python",
   "name": "python3"
  }
 },
 "nbformat": 4,
 "nbformat_minor": 2
}
